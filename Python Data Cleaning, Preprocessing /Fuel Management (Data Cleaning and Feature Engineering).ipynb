{
 "cells": [
  {
   "cell_type": "markdown",
   "id": "26b15041",
   "metadata": {},
   "source": [
    "# Fuel Management Project\n",
    "\n",
    "## Overview\n",
    "\n",
    "This project aims to analyze and optimize fuel usage within a specified system. The primary objectives include data cleaning, preprocessing, exploratory data analysis (EDA), and the development of predictive models to improve fuel management efficiency.\n",
    "\n",
    "## Contents\n",
    "\n",
    "1. **Data Cleaning and Preprocessing**: Steps to handle missing values, remove duplicates, and normalize data.\n",
    "3. **Feature Engineering**: Creation of new features or transformation of existing ones to improve model performance.\n",
    "5. **Model Evaluation**: Assessment of model performance using appropriate metrics and validation techniques.\n",
    "6. **Conclusions and Insights**: Summary of findings and recommendations for improving fuel management.\n"
   ]
  },
  {
   "cell_type": "markdown",
   "id": "b23610fe",
   "metadata": {},
   "source": [
    "# 1. Data Loading and Overview"
   ]
  },
  {
   "cell_type": "code",
   "execution_count": 3,
   "id": "28d76ced",
   "metadata": {},
   "outputs": [],
   "source": [
    "## 1.1: Importing the essential Libraries\n",
    "import pandas as pd\n",
    "import numpy as np\n",
    "import math\n",
    "import matplotlib.pyplot as plt\n",
    "import seaborn as sns\n",
    "\n",
    "#pd.set_option('display.max_rows', None)"
   ]
  },
  {
   "cell_type": "code",
   "execution_count": 2,
   "id": "9a84637e",
   "metadata": {},
   "outputs": [
    {
     "data": {
      "text/html": [
       "<div>\n",
       "<style scoped>\n",
       "    .dataframe tbody tr th:only-of-type {\n",
       "        vertical-align: middle;\n",
       "    }\n",
       "\n",
       "    .dataframe tbody tr th {\n",
       "        vertical-align: top;\n",
       "    }\n",
       "\n",
       "    .dataframe thead th {\n",
       "        text-align: right;\n",
       "    }\n",
       "</style>\n",
       "<table border=\"1\" class=\"dataframe\">\n",
       "  <thead>\n",
       "    <tr style=\"text-align: right;\">\n",
       "      <th></th>\n",
       "      <th>Number</th>\n",
       "      <th>Registration</th>\n",
       "      <th>Details</th>\n",
       "      <th>Product</th>\n",
       "      <th>Odometer</th>\n",
       "      <th>Distance</th>\n",
       "      <th>Unit</th>\n",
       "      <th>MPG</th>\n",
       "    </tr>\n",
       "  </thead>\n",
       "  <tbody>\n",
       "    <tr>\n",
       "      <th>0</th>\n",
       "      <td>NaN</td>\n",
       "      <td>NaN</td>\n",
       "      <td>NaN</td>\n",
       "      <td>NaN</td>\n",
       "      <td>NaN</td>\n",
       "      <td>NaN</td>\n",
       "      <td>NaN</td>\n",
       "      <td>NaN</td>\n",
       "    </tr>\n",
       "    <tr>\n",
       "      <th>1</th>\n",
       "      <td>0001</td>\n",
       "      <td>U1</td>\n",
       "      <td>Jaguar XJL Portfolio V6 D Limousine</td>\n",
       "      <td>Diesel</td>\n",
       "      <td>67691</td>\n",
       "      <td>0</td>\n",
       "      <td>Miles</td>\n",
       "      <td>0.00</td>\n",
       "    </tr>\n",
       "    <tr>\n",
       "      <th>2</th>\n",
       "      <td>0012</td>\n",
       "      <td>FL65FBA</td>\n",
       "      <td>Vauxhall CORSA  CDTI Car</td>\n",
       "      <td>Diesel</td>\n",
       "      <td>9329</td>\n",
       "      <td>2849</td>\n",
       "      <td>Miles</td>\n",
       "      <td>50.04</td>\n",
       "    </tr>\n",
       "    <tr>\n",
       "      <th>3</th>\n",
       "      <td>0013</td>\n",
       "      <td>MJ16XMY</td>\n",
       "      <td>Vauxhall Mokka 4x4 Utility Vehicle</td>\n",
       "      <td>Diesel</td>\n",
       "      <td>29064</td>\n",
       "      <td>5369</td>\n",
       "      <td>Miles</td>\n",
       "      <td>39.29</td>\n",
       "    </tr>\n",
       "    <tr>\n",
       "      <th>4</th>\n",
       "      <td>0016</td>\n",
       "      <td>BP16MKK</td>\n",
       "      <td>Nissan Note Car</td>\n",
       "      <td>Diesel</td>\n",
       "      <td>42233</td>\n",
       "      <td>1052</td>\n",
       "      <td>Miles</td>\n",
       "      <td>56.17</td>\n",
       "    </tr>\n",
       "    <tr>\n",
       "      <th>5</th>\n",
       "      <td>0017</td>\n",
       "      <td>YD16NAL</td>\n",
       "      <td>Peugeot car Car</td>\n",
       "      <td>Diesel</td>\n",
       "      <td>20475</td>\n",
       "      <td>3319</td>\n",
       "      <td>Miles</td>\n",
       "      <td>108.32</td>\n",
       "    </tr>\n",
       "    <tr>\n",
       "      <th>6</th>\n",
       "      <td>0018</td>\n",
       "      <td>YD16NAK</td>\n",
       "      <td>Peugeot 308 Car Car</td>\n",
       "      <td>Diesel</td>\n",
       "      <td>115020</td>\n",
       "      <td>36100</td>\n",
       "      <td>Miles</td>\n",
       "      <td>50.79</td>\n",
       "    </tr>\n",
       "    <tr>\n",
       "      <th>7</th>\n",
       "      <td>0019</td>\n",
       "      <td>BP16OPD</td>\n",
       "      <td>Nissan Note Car</td>\n",
       "      <td>Diesel</td>\n",
       "      <td>15559</td>\n",
       "      <td>948</td>\n",
       "      <td>Miles</td>\n",
       "      <td>36.04</td>\n",
       "    </tr>\n",
       "    <tr>\n",
       "      <th>8</th>\n",
       "      <td>0020</td>\n",
       "      <td>YH17VCF</td>\n",
       "      <td>Peugeot Expert Combi 9 seat MPV</td>\n",
       "      <td>Diesel</td>\n",
       "      <td>37352</td>\n",
       "      <td>14202</td>\n",
       "      <td>Miles</td>\n",
       "      <td>34.75</td>\n",
       "    </tr>\n",
       "    <tr>\n",
       "      <th>9</th>\n",
       "      <td>0021</td>\n",
       "      <td>MF68FNR</td>\n",
       "      <td>Renault  Traffic Welfare</td>\n",
       "      <td>Diesel</td>\n",
       "      <td>112</td>\n",
       "      <td>0</td>\n",
       "      <td>Miles</td>\n",
       "      <td>0.00</td>\n",
       "    </tr>\n",
       "  </tbody>\n",
       "</table>\n",
       "</div>"
      ],
      "text/plain": [
       "  Number Registration                              Details Product Odometer  \\\n",
       "0    NaN          NaN                                  NaN     NaN      NaN   \n",
       "1   0001           U1  Jaguar XJL Portfolio V6 D Limousine  Diesel    67691   \n",
       "2   0012      FL65FBA             Vauxhall CORSA  CDTI Car  Diesel     9329   \n",
       "3   0013      MJ16XMY   Vauxhall Mokka 4x4 Utility Vehicle  Diesel    29064   \n",
       "4   0016      BP16MKK                      Nissan Note Car  Diesel    42233   \n",
       "5   0017      YD16NAL                      Peugeot car Car  Diesel    20475   \n",
       "6   0018      YD16NAK                  Peugeot 308 Car Car  Diesel   115020   \n",
       "7   0019      BP16OPD                      Nissan Note Car  Diesel    15559   \n",
       "8   0020      YH17VCF      Peugeot Expert Combi 9 seat MPV  Diesel    37352   \n",
       "9   0021      MF68FNR             Renault  Traffic Welfare  Diesel      112   \n",
       "\n",
       "  Distance   Unit     MPG  \n",
       "0      NaN    NaN     NaN  \n",
       "1        0  Miles    0.00  \n",
       "2     2849  Miles   50.04  \n",
       "3     5369  Miles   39.29  \n",
       "4     1052  Miles   56.17  \n",
       "5     3319  Miles  108.32  \n",
       "6    36100  Miles   50.79  \n",
       "7      948  Miles   36.04  \n",
       "8    14202  Miles   34.75  \n",
       "9        0  Miles    0.00  "
      ]
     },
     "execution_count": 2,
     "metadata": {},
     "output_type": "execute_result"
    }
   ],
   "source": [
    "#1.2: Loading the data\n",
    "df = pd.read_csv(\"Final Data.csv\")\n",
    "df.head(10)"
   ]
  },
  {
   "cell_type": "code",
   "execution_count": 3,
   "id": "f79e4fc1",
   "metadata": {},
   "outputs": [
    {
     "name": "stdout",
     "output_type": "stream",
     "text": [
      "<class 'pandas.core.frame.DataFrame'>\n",
      "RangeIndex: 1490 entries, 0 to 1489\n",
      "Data columns (total 8 columns):\n",
      " #   Column        Non-Null Count  Dtype  \n",
      "---  ------        --------------  -----  \n",
      " 0   Number        1486 non-null   object \n",
      " 1   Registration  1483 non-null   object \n",
      " 2   Details       1484 non-null   object \n",
      " 3   Product       1484 non-null   object \n",
      " 4   Odometer      1484 non-null   object \n",
      " 5   Distance      1484 non-null   object \n",
      " 6   Unit          1482 non-null   object \n",
      " 7   MPG           1482 non-null   float64\n",
      "dtypes: float64(1), object(7)\n",
      "memory usage: 93.3+ KB\n"
     ]
    }
   ],
   "source": [
    "# 1.3: Looking for data types\n",
    "df.info()"
   ]
  },
  {
   "cell_type": "markdown",
   "id": "2d107e46",
   "metadata": {},
   "source": [
    "## Dataset Overview\n",
    "\n",
    "The dataset contains 1,490 entries with 8 columns related to fuel management. Below is a brief description of the dataset structure:\n",
    "\n",
    "- **Number**: Identification number for each entry (1486 non-null values, dtype: object)\n",
    "- **Registration**: Vehicle registration details (1483 non-null values, dtype: object)\n",
    "- **Details**: Additional details about the entry (1484 non-null values, dtype: object)\n",
    "- **Product**: Type of fuel product used (1484 non-null values, dtype: object)\n",
    "- **Odometer**: Odometer reading at the time of fuel entry (1484 non-null values, dtype: object)\n",
    "- **Distance**: Distance covered (1484 non-null values, dtype: object)\n",
    "- **Unit**: Unit of measurement for fuel (1482 non-null values, dtype: object)\n",
    "- **MPG**: Miles per gallon (1482 non-null values, dtype: float64)\n",
    "\n",
    "The dataset has some missing values across several columns, which will be addressed during the data cleaning and preprocessing phase."
   ]
  },
  {
   "cell_type": "code",
   "execution_count": 4,
   "id": "f908fcf1",
   "metadata": {},
   "outputs": [
    {
     "data": {
      "text/html": [
       "<div>\n",
       "<style scoped>\n",
       "    .dataframe tbody tr th:only-of-type {\n",
       "        vertical-align: middle;\n",
       "    }\n",
       "\n",
       "    .dataframe tbody tr th {\n",
       "        vertical-align: top;\n",
       "    }\n",
       "\n",
       "    .dataframe thead th {\n",
       "        text-align: right;\n",
       "    }\n",
       "</style>\n",
       "<table border=\"1\" class=\"dataframe\">\n",
       "  <thead>\n",
       "    <tr style=\"text-align: right;\">\n",
       "      <th></th>\n",
       "      <th>Number</th>\n",
       "      <th>Registration</th>\n",
       "      <th>Details</th>\n",
       "      <th>Product</th>\n",
       "      <th>Odometer</th>\n",
       "      <th>Distance</th>\n",
       "      <th>Unit</th>\n",
       "      <th>MPG</th>\n",
       "    </tr>\n",
       "  </thead>\n",
       "  <tbody>\n",
       "    <tr>\n",
       "      <th>count</th>\n",
       "      <td>1486</td>\n",
       "      <td>1483</td>\n",
       "      <td>1484</td>\n",
       "      <td>1484</td>\n",
       "      <td>1484</td>\n",
       "      <td>1484</td>\n",
       "      <td>1482</td>\n",
       "      <td>1482.000000</td>\n",
       "    </tr>\n",
       "    <tr>\n",
       "      <th>unique</th>\n",
       "      <td>1485</td>\n",
       "      <td>1452</td>\n",
       "      <td>301</td>\n",
       "      <td>5</td>\n",
       "      <td>1359</td>\n",
       "      <td>1187</td>\n",
       "      <td>4</td>\n",
       "      <td>NaN</td>\n",
       "    </tr>\n",
       "    <tr>\n",
       "      <th>top</th>\n",
       "      <td>1482</td>\n",
       "      <td>MW16DDL</td>\n",
       "      <td>Peugeot Partner Van Small</td>\n",
       "      <td>Diesel</td>\n",
       "      <td>0</td>\n",
       "      <td>0</td>\n",
       "      <td>Miles</td>\n",
       "      <td>NaN</td>\n",
       "    </tr>\n",
       "    <tr>\n",
       "      <th>freq</th>\n",
       "      <td>2</td>\n",
       "      <td>2</td>\n",
       "      <td>104</td>\n",
       "      <td>1440</td>\n",
       "      <td>114</td>\n",
       "      <td>250</td>\n",
       "      <td>1265</td>\n",
       "      <td>NaN</td>\n",
       "    </tr>\n",
       "    <tr>\n",
       "      <th>mean</th>\n",
       "      <td>NaN</td>\n",
       "      <td>NaN</td>\n",
       "      <td>NaN</td>\n",
       "      <td>NaN</td>\n",
       "      <td>NaN</td>\n",
       "      <td>NaN</td>\n",
       "      <td>NaN</td>\n",
       "      <td>12.037726</td>\n",
       "    </tr>\n",
       "    <tr>\n",
       "      <th>std</th>\n",
       "      <td>NaN</td>\n",
       "      <td>NaN</td>\n",
       "      <td>NaN</td>\n",
       "      <td>NaN</td>\n",
       "      <td>NaN</td>\n",
       "      <td>NaN</td>\n",
       "      <td>NaN</td>\n",
       "      <td>246.914654</td>\n",
       "    </tr>\n",
       "    <tr>\n",
       "      <th>min</th>\n",
       "      <td>NaN</td>\n",
       "      <td>NaN</td>\n",
       "      <td>NaN</td>\n",
       "      <td>NaN</td>\n",
       "      <td>NaN</td>\n",
       "      <td>NaN</td>\n",
       "      <td>NaN</td>\n",
       "      <td>-9238.620000</td>\n",
       "    </tr>\n",
       "    <tr>\n",
       "      <th>25%</th>\n",
       "      <td>NaN</td>\n",
       "      <td>NaN</td>\n",
       "      <td>NaN</td>\n",
       "      <td>NaN</td>\n",
       "      <td>NaN</td>\n",
       "      <td>NaN</td>\n",
       "      <td>NaN</td>\n",
       "      <td>3.167500</td>\n",
       "    </tr>\n",
       "    <tr>\n",
       "      <th>50%</th>\n",
       "      <td>NaN</td>\n",
       "      <td>NaN</td>\n",
       "      <td>NaN</td>\n",
       "      <td>NaN</td>\n",
       "      <td>NaN</td>\n",
       "      <td>NaN</td>\n",
       "      <td>NaN</td>\n",
       "      <td>19.750000</td>\n",
       "    </tr>\n",
       "    <tr>\n",
       "      <th>75%</th>\n",
       "      <td>NaN</td>\n",
       "      <td>NaN</td>\n",
       "      <td>NaN</td>\n",
       "      <td>NaN</td>\n",
       "      <td>NaN</td>\n",
       "      <td>NaN</td>\n",
       "      <td>NaN</td>\n",
       "      <td>29.885000</td>\n",
       "    </tr>\n",
       "    <tr>\n",
       "      <th>max</th>\n",
       "      <td>NaN</td>\n",
       "      <td>NaN</td>\n",
       "      <td>NaN</td>\n",
       "      <td>NaN</td>\n",
       "      <td>NaN</td>\n",
       "      <td>NaN</td>\n",
       "      <td>NaN</td>\n",
       "      <td>824.850000</td>\n",
       "    </tr>\n",
       "  </tbody>\n",
       "</table>\n",
       "</div>"
      ],
      "text/plain": [
       "       Number Registration                    Details Product Odometer  \\\n",
       "count    1486         1483                       1484    1484     1484   \n",
       "unique   1485         1452                        301       5     1359   \n",
       "top      1482      MW16DDL  Peugeot Partner Van Small  Diesel        0   \n",
       "freq        2            2                        104    1440      114   \n",
       "mean      NaN          NaN                        NaN     NaN      NaN   \n",
       "std       NaN          NaN                        NaN     NaN      NaN   \n",
       "min       NaN          NaN                        NaN     NaN      NaN   \n",
       "25%       NaN          NaN                        NaN     NaN      NaN   \n",
       "50%       NaN          NaN                        NaN     NaN      NaN   \n",
       "75%       NaN          NaN                        NaN     NaN      NaN   \n",
       "max       NaN          NaN                        NaN     NaN      NaN   \n",
       "\n",
       "       Distance   Unit          MPG  \n",
       "count      1484   1482  1482.000000  \n",
       "unique     1187      4          NaN  \n",
       "top           0  Miles          NaN  \n",
       "freq        250   1265          NaN  \n",
       "mean        NaN    NaN    12.037726  \n",
       "std         NaN    NaN   246.914654  \n",
       "min         NaN    NaN -9238.620000  \n",
       "25%         NaN    NaN     3.167500  \n",
       "50%         NaN    NaN    19.750000  \n",
       "75%         NaN    NaN    29.885000  \n",
       "max         NaN    NaN   824.850000  "
      ]
     },
     "execution_count": 4,
     "metadata": {},
     "output_type": "execute_result"
    }
   ],
   "source": [
    "#1.4: Statistical significance of the data\n",
    "df.describe(include = 'all')"
   ]
  },
  {
   "cell_type": "markdown",
   "id": "09c384f2",
   "metadata": {},
   "source": [
    "### Summary Statistics\n",
    "\n",
    "- **Number**\n",
    "  - Count: 1486\n",
    "  - Unique: 1485\n",
    "  - Most frequent (top): 1482 (2 occurrences)\n",
    "\n",
    "- **Registration**\n",
    "  - Count: 1483\n",
    "  - Unique: 1452\n",
    "  - Most frequent (top): MW16DDL (2 occurrences)\n",
    "\n",
    "- **Details**\n",
    "  - Count: 1484\n",
    "  - Unique: 301\n",
    "  - Most frequent (top): Peugeot Partner Van Small (104 occurrences)\n",
    "\n",
    "- **Product**\n",
    "  - Count: 1484\n",
    "  - Unique: 5\n",
    "  - Most frequent (top): Diesel (1440 occurrences)\n",
    "\n",
    "- **Odometer**\n",
    "  - Count: 1484\n",
    "  - Unique: 1359\n",
    "  - Most frequent (top): 0 (114 occurrences)\n",
    "\n",
    "- **Distance**\n",
    "  - Count: 1484\n",
    "  - Unique: 1187\n",
    "  - Most frequent (top): 0 (250 occurrences)\n",
    "\n",
    "- **Unit**\n",
    "  - Count: 1482\n",
    "  - Unique: 4\n",
    "  - Most frequent (top): Miles (1265 occurrences)\n",
    "\n",
    "- **MPG**\n",
    "  - Count: 1482\n",
    "  - Mean: 12.0377\n",
    "  - Standard Deviation: 246.9147\n",
    "  - Minimum: -9238.62\n",
    "  - 25th Percentile: 3.1675\n",
    "  - 50th Percentile (Median): 19.75\n",
    "  - 75th Percentile: 29.885\n",
    "  - Maximum: 824.85\n",
    "\n",
    "### Notes\n",
    "\n",
    "- The dataset has some missing values across several columns, which will be addressed during the data cleaning and preprocessing phase.\n",
    "- The `MPG` column has some extreme values, which may need further investigation for outliers or data entry errors."
   ]
  },
  {
   "cell_type": "markdown",
   "id": "c6ab0c24",
   "metadata": {},
   "source": [
    "# 2. Data Cleaning"
   ]
  },
  {
   "cell_type": "markdown",
   "id": "d7c1ee14",
   "metadata": {},
   "source": [
    "## 2.1: Handling Null Values"
   ]
  },
  {
   "cell_type": "code",
   "execution_count": 5,
   "id": "92f739ac",
   "metadata": {
    "scrolled": true
   },
   "outputs": [
    {
     "data": {
      "text/plain": [
       "Number          4\n",
       "Registration    7\n",
       "Details         6\n",
       "Product         6\n",
       "Odometer        6\n",
       "Distance        6\n",
       "Unit            8\n",
       "MPG             8\n",
       "dtype: int64"
      ]
     },
     "execution_count": 5,
     "metadata": {},
     "output_type": "execute_result"
    }
   ],
   "source": [
    "#Checking for null values\n",
    "df.isna().sum()"
   ]
  },
  {
   "cell_type": "code",
   "execution_count": 6,
   "id": "9be11753",
   "metadata": {},
   "outputs": [
    {
     "name": "stdout",
     "output_type": "stream",
     "text": [
      "The percentage of the null values in this data is: 0.43\n"
     ]
    }
   ],
   "source": [
    "#Percentage of NULL values\n",
    "total_values = df.shape[0] * df.shape[1]  #This will return the total values that df has\n",
    "null_values = df.isnull().sum().sum()     #This will return the total null values from all the df\n",
    "per_null_values = (null_values*100)/total_values     #This will return the percentage of null values\n",
    "\n",
    "print(\"The percentage of the null values in this data is:\", per_null_values.round(2))"
   ]
  },
  {
   "cell_type": "markdown",
   "id": "f2b67cf5",
   "metadata": {},
   "source": [
    "#### As this datafram has less than 1% null values so dropping these values will be used."
   ]
  },
  {
   "cell_type": "code",
   "execution_count": 7,
   "id": "3f78aead",
   "metadata": {},
   "outputs": [
    {
     "data": {
      "text/html": [
       "<div>\n",
       "<style scoped>\n",
       "    .dataframe tbody tr th:only-of-type {\n",
       "        vertical-align: middle;\n",
       "    }\n",
       "\n",
       "    .dataframe tbody tr th {\n",
       "        vertical-align: top;\n",
       "    }\n",
       "\n",
       "    .dataframe thead th {\n",
       "        text-align: right;\n",
       "    }\n",
       "</style>\n",
       "<table border=\"1\" class=\"dataframe\">\n",
       "  <thead>\n",
       "    <tr style=\"text-align: right;\">\n",
       "      <th></th>\n",
       "      <th>Number</th>\n",
       "      <th>Registration</th>\n",
       "      <th>Details</th>\n",
       "      <th>Product</th>\n",
       "      <th>Odometer</th>\n",
       "      <th>Distance</th>\n",
       "      <th>Unit</th>\n",
       "      <th>MPG</th>\n",
       "    </tr>\n",
       "  </thead>\n",
       "  <tbody>\n",
       "    <tr>\n",
       "      <th>1</th>\n",
       "      <td>0001</td>\n",
       "      <td>U1</td>\n",
       "      <td>Jaguar XJL Portfolio V6 D Limousine</td>\n",
       "      <td>Diesel</td>\n",
       "      <td>67691</td>\n",
       "      <td>0</td>\n",
       "      <td>Miles</td>\n",
       "      <td>0.00</td>\n",
       "    </tr>\n",
       "    <tr>\n",
       "      <th>2</th>\n",
       "      <td>0012</td>\n",
       "      <td>FL65FBA</td>\n",
       "      <td>Vauxhall CORSA  CDTI Car</td>\n",
       "      <td>Diesel</td>\n",
       "      <td>9329</td>\n",
       "      <td>2849</td>\n",
       "      <td>Miles</td>\n",
       "      <td>50.04</td>\n",
       "    </tr>\n",
       "    <tr>\n",
       "      <th>3</th>\n",
       "      <td>0013</td>\n",
       "      <td>MJ16XMY</td>\n",
       "      <td>Vauxhall Mokka 4x4 Utility Vehicle</td>\n",
       "      <td>Diesel</td>\n",
       "      <td>29064</td>\n",
       "      <td>5369</td>\n",
       "      <td>Miles</td>\n",
       "      <td>39.29</td>\n",
       "    </tr>\n",
       "    <tr>\n",
       "      <th>4</th>\n",
       "      <td>0016</td>\n",
       "      <td>BP16MKK</td>\n",
       "      <td>Nissan Note Car</td>\n",
       "      <td>Diesel</td>\n",
       "      <td>42233</td>\n",
       "      <td>1052</td>\n",
       "      <td>Miles</td>\n",
       "      <td>56.17</td>\n",
       "    </tr>\n",
       "    <tr>\n",
       "      <th>5</th>\n",
       "      <td>0017</td>\n",
       "      <td>YD16NAL</td>\n",
       "      <td>Peugeot car Car</td>\n",
       "      <td>Diesel</td>\n",
       "      <td>20475</td>\n",
       "      <td>3319</td>\n",
       "      <td>Miles</td>\n",
       "      <td>108.32</td>\n",
       "    </tr>\n",
       "  </tbody>\n",
       "</table>\n",
       "</div>"
      ],
      "text/plain": [
       "  Number Registration                              Details Product Odometer  \\\n",
       "1   0001           U1  Jaguar XJL Portfolio V6 D Limousine  Diesel    67691   \n",
       "2   0012      FL65FBA             Vauxhall CORSA  CDTI Car  Diesel     9329   \n",
       "3   0013      MJ16XMY   Vauxhall Mokka 4x4 Utility Vehicle  Diesel    29064   \n",
       "4   0016      BP16MKK                      Nissan Note Car  Diesel    42233   \n",
       "5   0017      YD16NAL                      Peugeot car Car  Diesel    20475   \n",
       "\n",
       "  Distance   Unit     MPG  \n",
       "1        0  Miles    0.00  \n",
       "2     2849  Miles   50.04  \n",
       "3     5369  Miles   39.29  \n",
       "4     1052  Miles   56.17  \n",
       "5     3319  Miles  108.32  "
      ]
     },
     "execution_count": 7,
     "metadata": {},
     "output_type": "execute_result"
    }
   ],
   "source": [
    "#Dropping the null values\n",
    "df.dropna(axis = 0, inplace = True)\n",
    "df.head()"
   ]
  },
  {
   "cell_type": "code",
   "execution_count": 8,
   "id": "309ff173",
   "metadata": {},
   "outputs": [
    {
     "data": {
      "text/plain": [
       "Number          0\n",
       "Registration    0\n",
       "Details         0\n",
       "Product         0\n",
       "Odometer        0\n",
       "Distance        0\n",
       "Unit            0\n",
       "MPG             0\n",
       "dtype: int64"
      ]
     },
     "execution_count": 8,
     "metadata": {},
     "output_type": "execute_result"
    }
   ],
   "source": [
    "#Check for any null values \n",
    "df.isnull().sum()"
   ]
  },
  {
   "cell_type": "markdown",
   "id": "36756264",
   "metadata": {},
   "source": [
    "## 2.2: Handling Duplicate Values"
   ]
  },
  {
   "cell_type": "code",
   "execution_count": 9,
   "id": "34fd1a52",
   "metadata": {},
   "outputs": [
    {
     "data": {
      "text/plain": [
       "0"
      ]
     },
     "execution_count": 9,
     "metadata": {},
     "output_type": "execute_result"
    }
   ],
   "source": [
    "# Checking for duplicates\n",
    "df.duplicated().sum()"
   ]
  },
  {
   "cell_type": "code",
   "execution_count": 10,
   "id": "e6189073",
   "metadata": {
    "scrolled": true
   },
   "outputs": [
    {
     "data": {
      "text/html": [
       "<div>\n",
       "<style scoped>\n",
       "    .dataframe tbody tr th:only-of-type {\n",
       "        vertical-align: middle;\n",
       "    }\n",
       "\n",
       "    .dataframe tbody tr th {\n",
       "        vertical-align: top;\n",
       "    }\n",
       "\n",
       "    .dataframe thead th {\n",
       "        text-align: right;\n",
       "    }\n",
       "</style>\n",
       "<table border=\"1\" class=\"dataframe\">\n",
       "  <thead>\n",
       "    <tr style=\"text-align: right;\">\n",
       "      <th></th>\n",
       "      <th>Number</th>\n",
       "      <th>Registration</th>\n",
       "      <th>Details</th>\n",
       "      <th>Product</th>\n",
       "      <th>Odometer</th>\n",
       "      <th>Distance</th>\n",
       "      <th>Unit</th>\n",
       "      <th>MPG</th>\n",
       "    </tr>\n",
       "  </thead>\n",
       "  <tbody>\n",
       "  </tbody>\n",
       "</table>\n",
       "</div>"
      ],
      "text/plain": [
       "Empty DataFrame\n",
       "Columns: [Number, Registration, Details, Product, Odometer, Distance, Unit, MPG]\n",
       "Index: []"
      ]
     },
     "execution_count": 10,
     "metadata": {},
     "output_type": "execute_result"
    }
   ],
   "source": [
    "#The actual values that are duplicate\n",
    "duplicate_values = df[df.duplicated()]\n",
    "duplicate_values"
   ]
  },
  {
   "cell_type": "markdown",
   "id": "c2d9c24f",
   "metadata": {},
   "source": [
    "#### As this data is illustrating that most of the values from this dataframe are zero in distance and zero in MPG so removing these values might be harmfull for the model because these might be the only zero's values in the dataframe.\n",
    "\n",
    "So first let's check the unique values across each column"
   ]
  },
  {
   "cell_type": "code",
   "execution_count": 11,
   "id": "a9f546e8",
   "metadata": {},
   "outputs": [
    {
     "name": "stdout",
     "output_type": "stream",
     "text": [
      "These are the unique values from the: Number  column\n",
      "<--------------------------------------------------------------------------------------------->\n",
      "['0001' '0012' '0013' ... '96' '96/113' '97']\n",
      "The count for all the unique values is: Number\n",
      "0001    1\n",
      "1893    1\n",
      "1960    1\n",
      "1955    1\n",
      "1948    1\n",
      "       ..\n",
      "1119    1\n",
      "1118    1\n",
      "1117    1\n",
      "1116    1\n",
      "97      1\n",
      "Name: count, Length: 1481, dtype: int64\n",
      "These are the unique values from the: Registration  column\n",
      "<--------------------------------------------------------------------------------------------->\n",
      "['U1' 'FL65FBA' 'MJ16XMY' ... 'YA07XMB' 'YJ58DGZ' '96/113']\n",
      "The count for all the unique values is: Registration\n",
      "MW16DDL    2\n",
      "YG69JKY    2\n",
      "YL17OYR    2\n",
      "YG63ETT    2\n",
      "YB63USD    2\n",
      "          ..\n",
      "YE13NHJ    1\n",
      "YE13ULH    1\n",
      "YE13NPJ    1\n",
      "YK13UTM    1\n",
      "96/113     1\n",
      "Name: count, Length: 1450, dtype: int64\n",
      "These are the unique values from the: Details  column\n",
      "<--------------------------------------------------------------------------------------------->\n",
      "['Jaguar XJL Portfolio V6 D Limousine' 'Vauxhall CORSA  CDTI Car'\n",
      " 'Vauxhall Mokka 4x4 Utility Vehicle' 'Nissan Note Car' 'Peugeot car Car'\n",
      " 'Peugeot 308 Car Car' 'Peugeot Expert Combi 9 seat MPV'\n",
      " 'Renault  Traffic Welfare' 'Volkswagon Caddy Maxi Welfare'\n",
      " '  Caddy Maxi Life Wav' '  Caddy Maxi Life Van'\n",
      " 'Volkswagen  Caddy Maxi Life Van' '  VW Caddy'\n",
      " 'Volkswagen Caddy 7 seater' 'Volkswagen Maxi Life Caddy'\n",
      " 'Volkwagon Caddy Life MPV' 'Volkswagon Caddy MPV Van Small'\n",
      " 'Volkswagen Caddy ' 'Volkswagon Caddy life MPV'\n",
      " 'Volkswagon Caddy WAV Van Small' 'Volkswagon Caddy Life MPV'\n",
      " '  Custom WAV' 'Ford Kuga Zetec 4x4 Utility Vehicle'\n",
      " 'Peugeot Expert Welfare MPV Welfare' 'Ford Mondeo car Car'\n",
      " 'Peugeot Expert Tepee MPV' 'Peugeot 208 Car' 'Peugeot 308 Estate Car'\n",
      " 'Peugeot  7 Seater' 'Ford Fiesta 1.4 TDi Van Car Derived Van'\n",
      " 'Vauxhall Corsa Small Van' 'Vauxhall  Corsa Small Van'\n",
      " 'Volkswagen CR50 Welfare Treka Welfare Bus' '  Welfare Bus'\n",
      " 'Volkswagon Crafter Welfare' 'Volkswagen Crafter Welfare'\n",
      " 'Volkswagen Crafter Welfare Bus' '  Minibus'\n",
      " 'Mercedes Sprinter 511 CDi Wel Welfare Bus'\n",
      " 'Volkswagen CR50 Welfare Mellor Welfare Bus'\n",
      " 'Volkswagen CR50 Coachbuilt Mell Coachbuilt Bus'\n",
      " 'Ford Transit 17st Minibus Minibus to 17 Seats'\n",
      " 'Ford Transit 14st minibus Minibus to 17 Seats'\n",
      " 'Vauxhall Movano Bus Minibus to 17 Seats' 'Peugeot Boxer Welfare'\n",
      " 'Fiat Ducato Welfare' 'Mercedes Sprinter Coachbuilt Coachbuilt Bus'\n",
      " 'Fiat  Ducato Welfare' 'Fiat Ducato welfare' 'Fiat ducato Welfare'\n",
      " 'Mercedes  Sprinter Welfare' 'Mercedes Sprinter Welfare'\n",
      " 'Mercedes Sprinter Welfareq' '  Coachbuilt Bus' '  Welfare' '  '\n",
      " 'Mitsubishi L200 4x4 Pickup' 'Ford Ranger 4x4 pickup 4x4 Utility Vehicle'\n",
      " 'Ford Ranger 4 X 4' 'Ford Ranger 4X4 Utility Vehicle'\n",
      " 'Ford Ranger 4 X 4 Utility vehicle' 'Ford  Ranger 4 x 4 '\n",
      " 'Ford Ranger  4X4 Utlility Vehicle'\n",
      " 'Ford Ranger 4x4 CCpickup 4x4 Utility Vehicle' '  4 x 4 Vehicle'\n",
      " 'Toyota Hilux 4 X 4' 'Vauxhall Corsa Car Derived Van'\n",
      " 'John Deere 6530 Premium Tractor' 'Vauxhall Corsa small van'\n",
      " 'Vauxhall Astra Van Small' 'Ford Connect T220SWB van Van Small'\n",
      " 'chipper timberwolf Chipper' 'John Deere 6430 Tractor'\n",
      " 'Peugeot Bipper Small Van' 'PEUGEOT Bipper Small Van'\n",
      " 'Peugeot Partner Van Small' 'Valtra Valmet N111E Tractor'\n",
      " 'Peugeot Bipper Van Small' 'John Deere 5090R Tractor'\n",
      " 'Volkswagen Caddy C20 TDI MAXI Van Small'\n",
      " 'Volkswagen Caddy C20 TDI Maxi Van Small' 'Peugeot  Partner Van Small'\n",
      " 'Ford Transit Courier Van Small' 'Vauxhall COMBO Van Small'\n",
      " 'Volkswagen Caddy 80 CNG Van Small' 'Ford Connect T200SWB van Van Small'\n",
      " 'Ford Connect T230LWB van Van Small' 'Ford  Connect Small Van'\n",
      " 'Ford Connect T240LWB Van Van Small' 'Peugeot Partner Small Van'\n",
      " 'peugeot Partner Van Small' 'Kubota B2530 Ride on Mower'\n",
      " 'Toro LT3340 Ride on Cylinder' 'Toro LT324 Cylinder ride on'\n",
      " 'Torro LT3340 Ride on Mower' 'John Deere Gator ATV'\n",
      " 'Volkswagen Tranporter 4 Motion Van Medium'\n",
      " 'Peugeot Expert L2H1 90 Van Van Medium' 'John Deere 5090 Tractor'\n",
      " 'JD  Gator 4x4' 'Ford Transit 280SWB van Van Medium' 'Kubota Digger '\n",
      " 'Timberwolf TW240TDHB Chipper' 'chipper n Chipper'\n",
      " 'JCB Load All Forklift' 'JCB 2CX JCB' 'Carlton SP5014 Stump Grinder'\n",
      " '  Van Medium' 'Ford Transit 290 Custom Van Medium'\n",
      " 'Ford Transit 290 Van Medium' 'Ford Transit 280 Refridgerated Van Medium'\n",
      " 'Ford Transit T300 Van Van Medium' 'Ford Transit 300 Van Van Medium'\n",
      " 'Ford Transit 300 CCab Van Van Medium'\n",
      " 'Peugeot Expert L1H1 90 Van Van Medium'\n",
      " 'Ford Torneo Custom Zetec Hybrid ' 'Ford Torneo Zetec Hybrid '\n",
      " 'Ford Custom Zetec Hybrid ' 'Ford Transit Custom 290L1 Van Medium'\n",
      " 'Kubota RTVx900 ATV' 'Kubota RTVX900 ATV'\n",
      " 'Ford Transit Custom Van Medium' 'Kubota G2160 Ride on Mower'\n",
      " 'Kubota B2560 Ride on Mower' 'Volvo 1.5ec Excavator'\n",
      " 'Nissan Note Small Van' 'FORD CUSTOM Van Medium'\n",
      " 'Renault Traffic Van Medium' 'Renault  Traffic Van Medium'\n",
      " 'Renauly Traffic Van Medium' 'Renault Traffic Van medium' '  Van Large'\n",
      " 'TS WF32/75DT Towable Chipper' 'Kubota F3090 Deckmachine'\n",
      " 'Ford Transit 330SWB van Van Medium' 'Ford Transit 100SWB van Van Medium'\n",
      " 'Ford Transit 100 T350 MWB Van Medium' 'Peugeot Boxer 330 Van Van Medium'\n",
      " 'Kubota B3150HSTX Compact Tractor' 'Iveco Iveco Daily 35C12 Van Large'\n",
      " 'Peugeot Boxer 335 Van Van Large' 'Vauxhall Movano Panel Van Van Large'\n",
      " 'Ford Transit Hybrid Van Medium' 'Valtra N154 Active Tractor'\n",
      " 'Ford Transit Van Medium' 'John Deere 6120M Tractor'\n",
      " 'John Deere 5125 Tractor' 'Ford Transit 350L HR van Van Large'\n",
      " 'Ford Transit 350EF van Van Large' 'Ford Transit 350L MR van Van Large'\n",
      " 'Peugeot Partner Medium Van' 'Peugeot Boxer Van Large'\n",
      " 'Ford Transit 350 HR Van Van Large'\n",
      " 'Ford Transit 350 DS WASH Flatback to 3.5t'\n",
      " 'Ford Transit 350M Tip T/L Tipper to 3.5t'\n",
      " 'Ford Transit 350L tipper Tipper to 3.5t' 'Peugeot Boxer Tipper to 3.5t'\n",
      " 'Ford Transit 350M Dside Flatback to 3.5t'\n",
      " 'Peugeot Boxer 335 Tipper T/L Flatback to 3.5t'\n",
      " 'Ford Transit 350M DS T/L Flatback to 3.5t'\n",
      " 'Ford Transit 350M Tip T/L Flatback to 3.5t'\n",
      " 'Ford Transit 350L DS T/L Flatback to 3.5t'\n",
      " 'Ford Transit 350L Dside Flatback to 3.5t'\n",
      " 'Ford Transit 350M Dside T/L Flatback to 3.5t'\n",
      " 'Ford Transit 3.5t Crewcab Tipper' 'Vauxhall Movano Tipper up to 3.5T'\n",
      " 'vauxha;; Movano Tipper to 3.5T' 'Vauxhall Movano Tipper to 3.5T'\n",
      " 'Peugeot Boxer L2 355 Dropside' '  Tipper upto 3.5t'\n",
      " 'Peugeot Boxer 3.5t Flackback' '  Drop Side Transit'\n",
      " '  Luton Boxer 335 L4' 'Ford Transit 350EF BoxVan Luton'\n",
      " 'Renault Master 120 35 Mobile Meeting room'\n",
      " 'Iveco 35S12 LWB HR Meeting Mobile Meeting room' 'Peugeot Boxer Luton'\n",
      " 'Vauxhall MOVANO L3H1 CC Tip 3.5t CC Tipper' '  Tipper up to 3.5t'\n",
      " 'Ford Transit 350LCCtipper 3.5t CC Tipper'\n",
      " 'Ford Transit 350CC Tip TL 3.5t CC Tipper' 'Vauxhall Vavaro 3.5T Tipper'\n",
      " 'Vauxhall Movarno 3.5T Tipper' 'Vauxhall Movano 3.5T Crewcab Tipper'\n",
      " 'Vauxhall Movano 3.5t Crewcab Tipper' 'Vauxhall Movano 3.5T Tipper'\n",
      " 'Vauxall Movano 3.5T Crewcab Tipper' 'Vauxall Movano 3.5t Crewcab Tipper'\n",
      " 'Vauxhall  Monanro 3.5T Crewcab ipper'\n",
      " 'Vauvhall Movano 3.5t Crewcab Tipper' 'Ford Transit 3.5t Crew Tipper'\n",
      " 'Ford Transit 3.5T Crewcab Tipper' 'Ford Transit  3.5T Crewcab Tipper'\n",
      " 'Ford  Transit 3.5t Crewcab Tipper' 'Peugeot Tipper Crewcab'\n",
      " 'Peugeot Boxer CCab Tipper 3.5t CC Tipper' 'FORD Transit 3.5t Tipper'\n",
      " '  3.5t Tipper' '  Crew Cab Tipper' 'Ford Transit  Crew Cab Tipper'\n",
      " 'Ford Transit Crew Cab Tipper' 'Iveco Daily Van Large'\n",
      " 'Iveco 65C18CC Tip T/L Tipper 3.5t - 7.5t'\n",
      " 'Volkswagen Crafter CR50 Tip T/L Tipper 3.5t - 7.5t'\n",
      " 'Volkswagen Crafter CR50 CC Tip Tipper 3.5t - 7.5t'\n",
      " 'Ford Ford Transit T470 Tipper 3.5t - 7.5t' '  Up to 7.5t Tipper'\n",
      " '  Tipper up to 7.5t' 'Iveco Daily 50C15 Hyd Plat Hyd Access Platform'\n",
      " 'Iveco Daily 65C18A Mobile Library'\n",
      " 'Iveco Ford Cargo75E/G Library Mobile Library'\n",
      " 'Leyland DAF Ley Daf FA45 Library Mobile Library'\n",
      " 'Mercedes Atego Mobile Library Mobile Library'\n",
      " 'Renault Midlum 180.0 Midlum 180.08 Mobile Library'\n",
      " 'Renault Master 150.35c Mobile Library' '  Library Bus' '  Library Hub'\n",
      " 'Iveco 7.2t Daily Library Bus'\n",
      " 'Iveco Daily 70-150 Forestry Tipper up to 7T'\n",
      " 'Iveco Daily 70-150 Forestry Tipper upto 7t' '  7.5t Cage '\n",
      " 'Iveco ML75E16K 7.5t Tip TL Tipper 7.5t'\n",
      " 'Iveco ML75E16K 7.5t Tip TL Tipper 7.5t '\n",
      " 'Ford Cargo 75E Tipper Tipper 7.5t'\n",
      " 'Mitsubishi Cantor 7.5t Tipper Tipper 7.5t' 'Iveco 7Tonne Tipper'\n",
      " 'Fuso Canter 7C15 HEV Tipper 7.5t'\n",
      " 'Renault Midlum 7.5 Tip Grit Tipper 7.5t'\n",
      " 'Iveco Daily Flatback over 3.5T' 'Iveco Daily Flatback over 7.5T'\n",
      " '  7.5t Tipper' 'Renault Midlum 220 dxi Flatback over 7.5t'\n",
      " 'Mercedes Arocs 2635K Tipper over 7.5t' '  26t Tipper/Gritter/Snowplough'\n",
      " 'Renault Premium Tipper over 7.5t'\n",
      " 'Ford Transit 430 LWB WASH Van 3.5t - 7.5t'\n",
      " 'Renault Midlum 240.18 Tipper 18t Demount'\n",
      " 'Daf LF250 18t Tipp/Gritt Tipper 18t Demount'\n",
      " 'Leyland DAF LF 55 Bulk Gritter' 'Mercedes Econic 4 Axle Bin'\n",
      " '  3 Axle RCV' 'Mercedes  Econic 3 Axle Bin' 'Mercedes Econic 3 Axle Bin'\n",
      " '  3 axle RCV' '  RCV' 'Dennis Eagle Elite 3 Axle Bin'\n",
      " 'Mercedes Econic 2 Axle Bin' 'Daf LF220 2 Axle Bin'\n",
      " 'Mereecdes Econic 3 Axle Bin' 'Dennis Elite 3 Axle Bin'\n",
      " 'Dennis Dennis Mun RCV 3 Axle Bin' '  18t Narrow Track' '  3 Axle Bin'\n",
      " '  3' '  Refuse Vehicle' 'Mercedes Econic Low Entry 3 Axle Bin'\n",
      " '  Toploader' 'Renault Kerax Hookloader' 'Mercedes Arocs Hookloader'\n",
      " 'Daf CF370 Hookloader' 'Daf CF FAD Hookloader' '  Hookloader'\n",
      " '  Tipper 18t Demount' 'DAF  Tipper Gritter Snowplough'\n",
      " '  18t insulated tipper/gritter' '  18t ins tipper/gritter/plough'\n",
      " '  18t Tipper/Gritter/Snowplough'\n",
      " 'Mercedes Arocs 1824K Tipper 18t Demount' 'Ford Ranger 4x4 Pickup'\n",
      " 'Ford Ranger 4 x 4' 'Ford  Ranger 4 X 4' 'vauxhall corsa Small Van'\n",
      " 'Landrover 110 LWB Hardtop TD5 4x4 Utility Vehicle'\n",
      " 'Iveco Panel Van Van Medium' 'Dennis Eagle Elite 2 Axle Bin'\n",
      " 'Dennis Eagle  Elite 2 Axle Bin' 'Dennis Elite 2 Axle Bin'\n",
      " 'Dennis Elite 2 3 Axle Bin' 'LDV 400 Convoy Mbus T/L Welfare Bus'\n",
      " 'Iveco 40C12 Minibus to 17 Seats' '  Van Small'\n",
      " 'Mercedes Sprinter van Van Large' 'Ford Tranist Minibus to 17st'\n",
      " 'Iveco 35S12 Van Large' 'Mercedes Econic  3 Axle Bin'\n",
      " 'Iveco Eurocargo 3 Axle Bin' '  Large Sweeper' '  Large Sweeper '\n",
      " '  Large Sweeper   ' '  Small Sweeper' 'Johnson CX200 Small Sweeper'\n",
      " 'Iveco Ford CargoML150E Dside Flatback over 7.5t' 'Daf CF Gully Tank'\n",
      " 'Volvo L45H Loading Shovel Loading Shovel' 'Volvo EW160 Waste Compactor'\n",
      " 'Volvo L110 Loading Shovel' 'Linde H30 Forklift Truck'\n",
      " 'Volvo FM12 Hookloader' 'MPM 10 Genset']\n",
      "The count for all the unique values is: Details\n",
      "Peugeot Partner Van Small                     104\n",
      "Ford Transit Custom 290L1 Van Medium           81\n",
      "Volkswagen CR50 Welfare Mellor Welfare Bus     76\n",
      "  Van Medium                                   65\n",
      "Peugeot Expert L2H1 90 Van Van Medium          51\n",
      "                                             ... \n",
      "Kubota F3090 Deckmachine                        1\n",
      "Ford Transit 100 T350 MWB Van Medium            1\n",
      "Peugeot Boxer 330 Van Van Medium                1\n",
      "Kubota B3150HSTX Compact Tractor                1\n",
      "MPM 10 Genset                                   1\n",
      "Name: count, Length: 299, dtype: int64\n",
      "These are the unique values from the: Product  column\n",
      "<--------------------------------------------------------------------------------------------->\n",
      "['Diesel' 'Gasoil' 'CNG']\n",
      "The count for all the unique values is: Product\n",
      "Diesel    1439\n",
      "Gasoil      28\n",
      "CNG         14\n",
      "Name: count, dtype: int64\n",
      "These are the unique values from the: Odometer  column\n",
      "<--------------------------------------------------------------------------------------------->\n",
      "['67691' '9329' '29064' ... '98830' '67305' '281395']\n",
      "The count for all the unique values is: Odometer\n",
      "0         113\n",
      "64686       2\n",
      "22746       2\n",
      "71310       2\n",
      "3336        2\n",
      "         ... \n",
      "45633       1\n",
      "48883       1\n",
      "49386       1\n",
      "76325       1\n",
      "281395      1\n",
      "Name: count, Length: 1357, dtype: int64\n",
      "These are the unique values from the: Distance  column\n",
      "<--------------------------------------------------------------------------------------------->\n",
      "['0' '2849' '5369' ... '3758' '1948' '919']\n",
      "The count for all the unique values is: Distance\n",
      "0       249\n",
      "1448      3\n",
      "1887      3\n",
      "1651      3\n",
      "1961      2\n",
      "       ... \n",
      "2590      1\n",
      "2649      1\n",
      "1249      1\n",
      "1347      1\n",
      "919       1\n",
      "Name: count, Length: 1185, dtype: int64\n",
      "These are the unique values from the: Unit  column\n",
      "<--------------------------------------------------------------------------------------------->\n",
      "['Miles' 'Kilometres' 'Hours' 'No Limit']\n",
      "The count for all the unique values is: Unit\n",
      "Miles         1265\n",
      "Kilometres     164\n",
      "Hours           50\n",
      "No Limit         2\n",
      "Name: count, dtype: int64\n",
      "These are the unique values from the: MPG  column\n",
      "<--------------------------------------------------------------------------------------------->\n",
      "[ 0.   50.04 39.29 ... 31.46 29.03 13.69]\n",
      "The count for all the unique values is: MPG\n",
      " 0.00      277\n",
      " 20.54       4\n",
      " 18.50       4\n",
      " 32.89       3\n",
      " 2.68        3\n",
      "          ... \n",
      "-153.70      1\n",
      " 33.78       1\n",
      " 35.19       1\n",
      " 31.39       1\n",
      " 13.69       1\n",
      "Name: count, Length: 1043, dtype: int64\n"
     ]
    }
   ],
   "source": [
    "unique_list = []\n",
    "def uniques_values(raw_data):\n",
    "    for columns in raw_data.columns:\n",
    "        print(\"These are the unique values from the:\", columns, \" column\")\n",
    "        print(\"<--------------------------------------------------------------------------------------------->\")\n",
    "        print(raw_data[columns].unique())\n",
    "        print(\"The count for all the unique values is:\", raw_data[columns].value_counts())\n",
    "        \n",
    "uniques_values(df)"
   ]
  },
  {
   "cell_type": "markdown",
   "id": "bce945af",
   "metadata": {},
   "source": [
    "#### So as there are more than 250 values with 0 field so it is good to move with removing the duplicates but left the last one and remove the remaining."
   ]
  },
  {
   "cell_type": "code",
   "execution_count": 12,
   "id": "a90567ff",
   "metadata": {},
   "outputs": [],
   "source": [
    "df.drop_duplicates(keep= 'last', inplace=True)"
   ]
  },
  {
   "cell_type": "markdown",
   "id": "7725852f",
   "metadata": {},
   "source": [
    "## 2.3: Extracting the Car Brand Name"
   ]
  },
  {
   "cell_type": "code",
   "execution_count": 13,
   "id": "ecf1254b",
   "metadata": {},
   "outputs": [],
   "source": [
    "#Getting the car brand name by uisng split and lambda methods\n",
    "df['Car_name'] = df['Details'].apply(lambda x: x.split(\" \")[0])"
   ]
  },
  {
   "cell_type": "code",
   "execution_count": 14,
   "id": "28262aef",
   "metadata": {},
   "outputs": [
    {
     "data": {
      "text/html": [
       "<div>\n",
       "<style scoped>\n",
       "    .dataframe tbody tr th:only-of-type {\n",
       "        vertical-align: middle;\n",
       "    }\n",
       "\n",
       "    .dataframe tbody tr th {\n",
       "        vertical-align: top;\n",
       "    }\n",
       "\n",
       "    .dataframe thead th {\n",
       "        text-align: right;\n",
       "    }\n",
       "</style>\n",
       "<table border=\"1\" class=\"dataframe\">\n",
       "  <thead>\n",
       "    <tr style=\"text-align: right;\">\n",
       "      <th></th>\n",
       "      <th>Number</th>\n",
       "      <th>Registration</th>\n",
       "      <th>Details</th>\n",
       "      <th>Product</th>\n",
       "      <th>Odometer</th>\n",
       "      <th>Distance</th>\n",
       "      <th>Unit</th>\n",
       "      <th>MPG</th>\n",
       "      <th>Car_name</th>\n",
       "    </tr>\n",
       "  </thead>\n",
       "  <tbody>\n",
       "    <tr>\n",
       "      <th>11</th>\n",
       "      <td>0024</td>\n",
       "      <td>YG69UKP</td>\n",
       "      <td>Caddy Maxi Life Wav</td>\n",
       "      <td>Diesel</td>\n",
       "      <td>8103</td>\n",
       "      <td>8066</td>\n",
       "      <td>Miles</td>\n",
       "      <td>42.22</td>\n",
       "      <td></td>\n",
       "    </tr>\n",
       "    <tr>\n",
       "      <th>12</th>\n",
       "      <td>0025</td>\n",
       "      <td>YG69UKR</td>\n",
       "      <td>Caddy Maxi Life Van</td>\n",
       "      <td>Diesel</td>\n",
       "      <td>6187</td>\n",
       "      <td>6160</td>\n",
       "      <td>Miles</td>\n",
       "      <td>36.93</td>\n",
       "      <td></td>\n",
       "    </tr>\n",
       "    <tr>\n",
       "      <th>14</th>\n",
       "      <td>0027</td>\n",
       "      <td>YL69KJN</td>\n",
       "      <td>VW Caddy</td>\n",
       "      <td>Diesel</td>\n",
       "      <td>1060</td>\n",
       "      <td>1032</td>\n",
       "      <td>Miles</td>\n",
       "      <td>26.60</td>\n",
       "      <td></td>\n",
       "    </tr>\n",
       "    <tr>\n",
       "      <th>15</th>\n",
       "      <td>0028</td>\n",
       "      <td>YL69KJV</td>\n",
       "      <td>VW Caddy</td>\n",
       "      <td>Diesel</td>\n",
       "      <td>360</td>\n",
       "      <td>307</td>\n",
       "      <td>Miles</td>\n",
       "      <td>15.77</td>\n",
       "      <td></td>\n",
       "    </tr>\n",
       "    <tr>\n",
       "      <th>16</th>\n",
       "      <td>0029</td>\n",
       "      <td>YL69KJO</td>\n",
       "      <td>VW Caddy</td>\n",
       "      <td>Diesel</td>\n",
       "      <td>967</td>\n",
       "      <td>884</td>\n",
       "      <td>Miles</td>\n",
       "      <td>24.48</td>\n",
       "      <td></td>\n",
       "    </tr>\n",
       "    <tr>\n",
       "      <th>...</th>\n",
       "      <td>...</td>\n",
       "      <td>...</td>\n",
       "      <td>...</td>\n",
       "      <td>...</td>\n",
       "      <td>...</td>\n",
       "      <td>...</td>\n",
       "      <td>...</td>\n",
       "      <td>...</td>\n",
       "      <td>...</td>\n",
       "    </tr>\n",
       "    <tr>\n",
       "      <th>1442</th>\n",
       "      <td>78574</td>\n",
       "      <td>LJ65DPO</td>\n",
       "      <td>Small Sweeper</td>\n",
       "      <td>Diesel</td>\n",
       "      <td>28548</td>\n",
       "      <td>4033</td>\n",
       "      <td>Miles</td>\n",
       "      <td>4.33</td>\n",
       "      <td></td>\n",
       "    </tr>\n",
       "    <tr>\n",
       "      <th>1443</th>\n",
       "      <td>78575</td>\n",
       "      <td>LJ65FWZ</td>\n",
       "      <td>Small Sweeper</td>\n",
       "      <td>Diesel</td>\n",
       "      <td>22090</td>\n",
       "      <td>5901</td>\n",
       "      <td>Miles</td>\n",
       "      <td>4.41</td>\n",
       "      <td></td>\n",
       "    </tr>\n",
       "    <tr>\n",
       "      <th>1444</th>\n",
       "      <td>78576</td>\n",
       "      <td>LJ65FXA</td>\n",
       "      <td>Small Sweeper</td>\n",
       "      <td>Diesel</td>\n",
       "      <td>33210</td>\n",
       "      <td>6513</td>\n",
       "      <td>Miles</td>\n",
       "      <td>3.83</td>\n",
       "      <td></td>\n",
       "    </tr>\n",
       "    <tr>\n",
       "      <th>1445</th>\n",
       "      <td>78578</td>\n",
       "      <td>LJ65FXC</td>\n",
       "      <td>Small Sweeper</td>\n",
       "      <td>Diesel</td>\n",
       "      <td>37376</td>\n",
       "      <td>10179</td>\n",
       "      <td>Miles</td>\n",
       "      <td>5.77</td>\n",
       "      <td></td>\n",
       "    </tr>\n",
       "    <tr>\n",
       "      <th>1446</th>\n",
       "      <td>78579</td>\n",
       "      <td>LJ65DPN</td>\n",
       "      <td>Small Sweeper</td>\n",
       "      <td>Diesel</td>\n",
       "      <td>27310</td>\n",
       "      <td>7305</td>\n",
       "      <td>Miles</td>\n",
       "      <td>4.14</td>\n",
       "      <td></td>\n",
       "    </tr>\n",
       "  </tbody>\n",
       "</table>\n",
       "<p>254 rows × 9 columns</p>\n",
       "</div>"
      ],
      "text/plain": [
       "     Number      Registration                Details Product Odometer  \\\n",
       "11     0024           YG69UKP    Caddy Maxi Life Wav  Diesel     8103   \n",
       "12     0025           YG69UKR    Caddy Maxi Life Van  Diesel     6187   \n",
       "14     0027           YL69KJN               VW Caddy  Diesel     1060   \n",
       "15     0028           YL69KJV               VW Caddy  Diesel      360   \n",
       "16     0029           YL69KJO               VW Caddy  Diesel      967   \n",
       "...     ...               ...                    ...     ...      ...   \n",
       "1442  78574  LJ65DPO                   Small Sweeper  Diesel    28548   \n",
       "1443  78575  LJ65FWZ                   Small Sweeper  Diesel    22090   \n",
       "1444  78576  LJ65FXA                   Small Sweeper  Diesel    33210   \n",
       "1445  78578  LJ65FXC                   Small Sweeper  Diesel    37376   \n",
       "1446  78579  LJ65DPN                   Small Sweeper  Diesel    27310   \n",
       "\n",
       "     Distance   Unit    MPG Car_name  \n",
       "11       8066  Miles  42.22           \n",
       "12       6160  Miles  36.93           \n",
       "14       1032  Miles  26.60           \n",
       "15        307  Miles  15.77           \n",
       "16        884  Miles  24.48           \n",
       "...       ...    ...    ...      ...  \n",
       "1442     4033  Miles   4.33           \n",
       "1443     5901  Miles   4.41           \n",
       "1444     6513  Miles   3.83           \n",
       "1445    10179  Miles   5.77           \n",
       "1446     7305  Miles   4.14           \n",
       "\n",
       "[254 rows x 9 columns]"
      ]
     },
     "execution_count": 14,
     "metadata": {},
     "output_type": "execute_result"
    }
   ],
   "source": [
    "#Getting the data that is not mined correctly\n",
    "df_empty_cells = df[df['Car_name'] == \"\"]\n",
    "df_empty_cells"
   ]
  },
  {
   "cell_type": "code",
   "execution_count": 15,
   "id": "60723252-6165-45da-aa8d-7c416d8a39ae",
   "metadata": {
    "tags": []
   },
   "outputs": [
    {
     "name": "stderr",
     "output_type": "stream",
     "text": [
      "/var/folders/b2/pn6h715x3rz171jbp1s72snr0000gn/T/ipykernel_3832/936101977.py:1: SettingWithCopyWarning: \n",
      "A value is trying to be set on a copy of a slice from a DataFrame.\n",
      "Try using .loc[row_indexer,col_indexer] = value instead\n",
      "\n",
      "See the caveats in the documentation: https://pandas.pydata.org/pandas-docs/stable/user_guide/indexing.html#returning-a-view-versus-a-copy\n",
      "  df_empty_cells['Car_name'] = df_empty_cells['Details'].apply(lambda x: x.split(\" \")[2].strip())\n"
     ]
    }
   ],
   "source": [
    "df_empty_cells['Car_name'] = df_empty_cells['Details'].apply(lambda x: x.split(\" \")[2].strip())"
   ]
  },
  {
   "cell_type": "code",
   "execution_count": 16,
   "id": "cfc24846-66df-4ae8-b9d7-7d2e8ce2c327",
   "metadata": {
    "tags": []
   },
   "outputs": [
    {
     "data": {
      "text/plain": [
       "array(['Caddy', 'VW', 'Custom', 'Welfare', 'Minibus', 'Coachbuilt', '',\n",
       "       '4', 'Van', 'Tipper', 'Drop', 'Luton', '3.5t', 'Crew', 'Up',\n",
       "       'Library', '7.5t', '26t', '3', 'RCV', '18t', 'Refuse', 'Toploader',\n",
       "       'Hookloader', 'Large', 'Small'], dtype=object)"
      ]
     },
     "execution_count": 16,
     "metadata": {},
     "output_type": "execute_result"
    }
   ],
   "source": [
    "df_empty_cells['Car_name'].unique()"
   ]
  },
  {
   "cell_type": "code",
   "execution_count": 17,
   "id": "a857f12f-7791-4632-9ca2-929f52f213d2",
   "metadata": {
    "tags": []
   },
   "outputs": [],
   "source": [
    "useless_cars = df_empty_cells[(df_empty_cells['Car_name'] == 'Custome') | (df_empty_cells['Car_name'] == 'Welfare') |\n",
    "               (df_empty_cells['Car_name'] == 'Coachbuilt') | (df_empty_cells['Car_name'] == '') | \n",
    "               (df_empty_cells['Car_name'] == '4') | (df_empty_cells['Car_name'] == 'Van') | \n",
    "               (df_empty_cells['Car_name'] == 'Tipper') | (df_empty_cells['Car_name'] == 'Drop') | \n",
    "               (df_empty_cells['Car_name'] == '3.5t') | (df_empty_cells['Car_name'] == 'Crew') | \n",
    "              (df_empty_cells['Car_name'] == 'Up') | (df_empty_cells['Car_name'] == 'Library') | \n",
    "              (df_empty_cells['Car_name'] == '7.5t') | (df_empty_cells['Car_name'] == '26t') | \n",
    "              (df_empty_cells['Car_name'] == '3') | (df_empty_cells['Car_name'] == '18t') | \n",
    "              (df_empty_cells['Car_name'] == 'Refuse') | (df_empty_cells['Car_name'] == 'Toploader') | \n",
    "              (df_empty_cells['Car_name'] == 'Hookloader') | (df_empty_cells['Car_name'] == 'Large') | \n",
    "              (df_empty_cells['Car_name'] == 'Small')]\n",
    "\n",
    "\n",
    "usefull_cars = df_empty_cells[(df_empty_cells['Car_name'] == 'Caddy') | (df_empty_cells['Car_name'] == 'VM') |\n",
    "               (df_empty_cells['Car_name'] == 'Minibus')|  (df_empty_cells['Car_name'] == 'Luton') |\n",
    "              (df_empty_cells['Car_name'] == 'RCV')]"
   ]
  },
  {
   "cell_type": "code",
   "execution_count": 18,
   "id": "511a9ab1-2c28-44bb-81a6-dea81730535c",
   "metadata": {
    "tags": []
   },
   "outputs": [],
   "source": [
    "df1 = df[df['Car_name'] != '']\n",
    "\n",
    "df1 = pd.concat([df1, usefull_cars], axis = 0)"
   ]
  },
  {
   "cell_type": "markdown",
   "id": "e98059bb-cb26-4896-8be9-5d653fa2c8a8",
   "metadata": {},
   "source": [
    "## 2.4: Converting the Miles into kilometers"
   ]
  },
  {
   "cell_type": "code",
   "execution_count": 19,
   "id": "3df34d0d-0f56-4f88-b8ed-b33cafce7c16",
   "metadata": {
    "tags": []
   },
   "outputs": [
    {
     "data": {
      "text/plain": [
       "array(['Miles', 'Kilometres', 'Hours', 'No Limit'], dtype=object)"
      ]
     },
     "execution_count": 19,
     "metadata": {},
     "output_type": "execute_result"
    }
   ],
   "source": [
    "df1['Unit'].unique()"
   ]
  },
  {
   "cell_type": "code",
   "execution_count": 20,
   "id": "e4d71c52-5374-4a67-85a6-a14dd9b777ec",
   "metadata": {
    "tags": []
   },
   "outputs": [],
   "source": [
    "#Removing the Rows with Hours and No limit values\n",
    "df1 = df1[(df1['Unit'] != 'Hours') & (df1['Unit'] != 'No Limit')]"
   ]
  },
  {
   "cell_type": "code",
   "execution_count": 21,
   "id": "5b00a6a4-d771-4a62-9bc0-d5df9d63894e",
   "metadata": {
    "tags": []
   },
   "outputs": [
    {
     "data": {
      "text/html": [
       "<div>\n",
       "<style scoped>\n",
       "    .dataframe tbody tr th:only-of-type {\n",
       "        vertical-align: middle;\n",
       "    }\n",
       "\n",
       "    .dataframe tbody tr th {\n",
       "        vertical-align: top;\n",
       "    }\n",
       "\n",
       "    .dataframe thead th {\n",
       "        text-align: right;\n",
       "    }\n",
       "</style>\n",
       "<table border=\"1\" class=\"dataframe\">\n",
       "  <thead>\n",
       "    <tr style=\"text-align: right;\">\n",
       "      <th></th>\n",
       "      <th>Number</th>\n",
       "      <th>Registration</th>\n",
       "      <th>Details</th>\n",
       "      <th>Product</th>\n",
       "      <th>Odometer</th>\n",
       "      <th>Distance</th>\n",
       "      <th>Unit</th>\n",
       "      <th>MPG</th>\n",
       "      <th>Car_name</th>\n",
       "    </tr>\n",
       "  </thead>\n",
       "  <tbody>\n",
       "    <tr>\n",
       "      <th>1</th>\n",
       "      <td>0001</td>\n",
       "      <td>U1</td>\n",
       "      <td>Jaguar XJL Portfolio V6 D Limousine</td>\n",
       "      <td>Diesel</td>\n",
       "      <td>67691</td>\n",
       "      <td>0.00000</td>\n",
       "      <td>Miles</td>\n",
       "      <td>0.00</td>\n",
       "      <td>Jaguar</td>\n",
       "    </tr>\n",
       "    <tr>\n",
       "      <th>2</th>\n",
       "      <td>0012</td>\n",
       "      <td>FL65FBA</td>\n",
       "      <td>Vauxhall CORSA  CDTI Car</td>\n",
       "      <td>Diesel</td>\n",
       "      <td>9329</td>\n",
       "      <td>4585.00966</td>\n",
       "      <td>Miles</td>\n",
       "      <td>50.04</td>\n",
       "      <td>Vauxhall</td>\n",
       "    </tr>\n",
       "    <tr>\n",
       "      <th>3</th>\n",
       "      <td>0013</td>\n",
       "      <td>MJ16XMY</td>\n",
       "      <td>Vauxhall Mokka 4x4 Utility Vehicle</td>\n",
       "      <td>Diesel</td>\n",
       "      <td>29064</td>\n",
       "      <td>8640.54646</td>\n",
       "      <td>Miles</td>\n",
       "      <td>39.29</td>\n",
       "      <td>Vauxhall</td>\n",
       "    </tr>\n",
       "    <tr>\n",
       "      <th>4</th>\n",
       "      <td>0016</td>\n",
       "      <td>BP16MKK</td>\n",
       "      <td>Nissan Note Car</td>\n",
       "      <td>Diesel</td>\n",
       "      <td>42233</td>\n",
       "      <td>1693.02568</td>\n",
       "      <td>Miles</td>\n",
       "      <td>56.17</td>\n",
       "      <td>Nissan</td>\n",
       "    </tr>\n",
       "    <tr>\n",
       "      <th>5</th>\n",
       "      <td>0017</td>\n",
       "      <td>YD16NAL</td>\n",
       "      <td>Peugeot car Car</td>\n",
       "      <td>Diesel</td>\n",
       "      <td>20475</td>\n",
       "      <td>5341.39946</td>\n",
       "      <td>Miles</td>\n",
       "      <td>108.32</td>\n",
       "      <td>Peugeot</td>\n",
       "    </tr>\n",
       "  </tbody>\n",
       "</table>\n",
       "</div>"
      ],
      "text/plain": [
       "  Number Registration                              Details Product Odometer  \\\n",
       "1   0001           U1  Jaguar XJL Portfolio V6 D Limousine  Diesel    67691   \n",
       "2   0012      FL65FBA             Vauxhall CORSA  CDTI Car  Diesel     9329   \n",
       "3   0013      MJ16XMY   Vauxhall Mokka 4x4 Utility Vehicle  Diesel    29064   \n",
       "4   0016      BP16MKK                      Nissan Note Car  Diesel    42233   \n",
       "5   0017      YD16NAL                      Peugeot car Car  Diesel    20475   \n",
       "\n",
       "     Distance   Unit     MPG  Car_name  \n",
       "1     0.00000  Miles    0.00    Jaguar  \n",
       "2  4585.00966  Miles   50.04  Vauxhall  \n",
       "3  8640.54646  Miles   39.29  Vauxhall  \n",
       "4  1693.02568  Miles   56.17    Nissan  \n",
       "5  5341.39946  Miles  108.32   Peugeot  "
      ]
     },
     "execution_count": 21,
     "metadata": {},
     "output_type": "execute_result"
    }
   ],
   "source": [
    "# Conversion factor\n",
    "mile_to_km = 1.60934\n",
    "df1['Distance'] = df1['Distance'].astype('float')\n",
    "# Using apply with a lambda function to update the Distance column\n",
    "df1['Distance'] = df1.apply(lambda row: row['Distance'] * mile_to_km if row['Unit'] == 'Miles' else row['Distance'], axis=1)\n",
    "df1.head()"
   ]
  },
  {
   "cell_type": "markdown",
   "id": "9ad64b4c",
   "metadata": {},
   "source": [
    "# 3. Feature Engineering"
   ]
  },
  {
   "cell_type": "code",
   "execution_count": 22,
   "id": "3f5737f0",
   "metadata": {},
   "outputs": [
    {
     "data": {
      "text/html": [
       "<div>\n",
       "<style scoped>\n",
       "    .dataframe tbody tr th:only-of-type {\n",
       "        vertical-align: middle;\n",
       "    }\n",
       "\n",
       "    .dataframe tbody tr th {\n",
       "        vertical-align: top;\n",
       "    }\n",
       "\n",
       "    .dataframe thead th {\n",
       "        text-align: right;\n",
       "    }\n",
       "</style>\n",
       "<table border=\"1\" class=\"dataframe\">\n",
       "  <thead>\n",
       "    <tr style=\"text-align: right;\">\n",
       "      <th></th>\n",
       "      <th>Number</th>\n",
       "      <th>Registration</th>\n",
       "      <th>Details</th>\n",
       "      <th>Product</th>\n",
       "      <th>Odometer</th>\n",
       "      <th>Distance</th>\n",
       "      <th>Unit</th>\n",
       "      <th>MPG</th>\n",
       "      <th>Car_name</th>\n",
       "    </tr>\n",
       "  </thead>\n",
       "  <tbody>\n",
       "    <tr>\n",
       "      <th>1</th>\n",
       "      <td>0001</td>\n",
       "      <td>U1</td>\n",
       "      <td>Jaguar XJL Portfolio V6 D Limousine</td>\n",
       "      <td>Diesel</td>\n",
       "      <td>67691</td>\n",
       "      <td>0.00000</td>\n",
       "      <td>Miles</td>\n",
       "      <td>0.00</td>\n",
       "      <td>Jaguar</td>\n",
       "    </tr>\n",
       "    <tr>\n",
       "      <th>2</th>\n",
       "      <td>0012</td>\n",
       "      <td>FL65FBA</td>\n",
       "      <td>Vauxhall CORSA  CDTI Car</td>\n",
       "      <td>Diesel</td>\n",
       "      <td>9329</td>\n",
       "      <td>4585.00966</td>\n",
       "      <td>Miles</td>\n",
       "      <td>50.04</td>\n",
       "      <td>Vauxhall</td>\n",
       "    </tr>\n",
       "    <tr>\n",
       "      <th>3</th>\n",
       "      <td>0013</td>\n",
       "      <td>MJ16XMY</td>\n",
       "      <td>Vauxhall Mokka 4x4 Utility Vehicle</td>\n",
       "      <td>Diesel</td>\n",
       "      <td>29064</td>\n",
       "      <td>8640.54646</td>\n",
       "      <td>Miles</td>\n",
       "      <td>39.29</td>\n",
       "      <td>Vauxhall</td>\n",
       "    </tr>\n",
       "    <tr>\n",
       "      <th>4</th>\n",
       "      <td>0016</td>\n",
       "      <td>BP16MKK</td>\n",
       "      <td>Nissan Note Car</td>\n",
       "      <td>Diesel</td>\n",
       "      <td>42233</td>\n",
       "      <td>1693.02568</td>\n",
       "      <td>Miles</td>\n",
       "      <td>56.17</td>\n",
       "      <td>Nissan</td>\n",
       "    </tr>\n",
       "    <tr>\n",
       "      <th>5</th>\n",
       "      <td>0017</td>\n",
       "      <td>YD16NAL</td>\n",
       "      <td>Peugeot car Car</td>\n",
       "      <td>Diesel</td>\n",
       "      <td>20475</td>\n",
       "      <td>5341.39946</td>\n",
       "      <td>Miles</td>\n",
       "      <td>108.32</td>\n",
       "      <td>Peugeot</td>\n",
       "    </tr>\n",
       "  </tbody>\n",
       "</table>\n",
       "</div>"
      ],
      "text/plain": [
       "  Number Registration                              Details Product Odometer  \\\n",
       "1   0001           U1  Jaguar XJL Portfolio V6 D Limousine  Diesel    67691   \n",
       "2   0012      FL65FBA             Vauxhall CORSA  CDTI Car  Diesel     9329   \n",
       "3   0013      MJ16XMY   Vauxhall Mokka 4x4 Utility Vehicle  Diesel    29064   \n",
       "4   0016      BP16MKK                      Nissan Note Car  Diesel    42233   \n",
       "5   0017      YD16NAL                      Peugeot car Car  Diesel    20475   \n",
       "\n",
       "     Distance   Unit     MPG  Car_name  \n",
       "1     0.00000  Miles    0.00    Jaguar  \n",
       "2  4585.00966  Miles   50.04  Vauxhall  \n",
       "3  8640.54646  Miles   39.29  Vauxhall  \n",
       "4  1693.02568  Miles   56.17    Nissan  \n",
       "5  5341.39946  Miles  108.32   Peugeot  "
      ]
     },
     "execution_count": 22,
     "metadata": {},
     "output_type": "execute_result"
    }
   ],
   "source": [
    "#1.5: Removing the unwanted columns but first let's look again the data we have\n",
    "df1.head()"
   ]
  },
  {
   "cell_type": "markdown",
   "id": "9da574ee",
   "metadata": {},
   "source": [
    "## 3.1 Unwanted Columns:\n",
    "1. Number:  because it has no affect on the fuel management it is just a index type\n",
    "2. Registration: It could be useful for data management but not here"
   ]
  },
  {
   "cell_type": "code",
   "execution_count": 23,
   "id": "0fad2b19",
   "metadata": {},
   "outputs": [
    {
     "data": {
      "text/html": [
       "<div>\n",
       "<style scoped>\n",
       "    .dataframe tbody tr th:only-of-type {\n",
       "        vertical-align: middle;\n",
       "    }\n",
       "\n",
       "    .dataframe tbody tr th {\n",
       "        vertical-align: top;\n",
       "    }\n",
       "\n",
       "    .dataframe thead th {\n",
       "        text-align: right;\n",
       "    }\n",
       "</style>\n",
       "<table border=\"1\" class=\"dataframe\">\n",
       "  <thead>\n",
       "    <tr style=\"text-align: right;\">\n",
       "      <th></th>\n",
       "      <th>Product</th>\n",
       "      <th>Distance</th>\n",
       "      <th>MPG</th>\n",
       "      <th>Car_name</th>\n",
       "    </tr>\n",
       "  </thead>\n",
       "  <tbody>\n",
       "    <tr>\n",
       "      <th>1</th>\n",
       "      <td>Diesel</td>\n",
       "      <td>0.00000</td>\n",
       "      <td>0.00</td>\n",
       "      <td>Jaguar</td>\n",
       "    </tr>\n",
       "    <tr>\n",
       "      <th>2</th>\n",
       "      <td>Diesel</td>\n",
       "      <td>4585.00966</td>\n",
       "      <td>50.04</td>\n",
       "      <td>Vauxhall</td>\n",
       "    </tr>\n",
       "    <tr>\n",
       "      <th>3</th>\n",
       "      <td>Diesel</td>\n",
       "      <td>8640.54646</td>\n",
       "      <td>39.29</td>\n",
       "      <td>Vauxhall</td>\n",
       "    </tr>\n",
       "    <tr>\n",
       "      <th>4</th>\n",
       "      <td>Diesel</td>\n",
       "      <td>1693.02568</td>\n",
       "      <td>56.17</td>\n",
       "      <td>Nissan</td>\n",
       "    </tr>\n",
       "    <tr>\n",
       "      <th>5</th>\n",
       "      <td>Diesel</td>\n",
       "      <td>5341.39946</td>\n",
       "      <td>108.32</td>\n",
       "      <td>Peugeot</td>\n",
       "    </tr>\n",
       "  </tbody>\n",
       "</table>\n",
       "</div>"
      ],
      "text/plain": [
       "  Product    Distance     MPG  Car_name\n",
       "1  Diesel     0.00000    0.00    Jaguar\n",
       "2  Diesel  4585.00966   50.04  Vauxhall\n",
       "3  Diesel  8640.54646   39.29  Vauxhall\n",
       "4  Diesel  1693.02568   56.17    Nissan\n",
       "5  Diesel  5341.39946  108.32   Peugeot"
      ]
     },
     "execution_count": 23,
     "metadata": {},
     "output_type": "execute_result"
    }
   ],
   "source": [
    "# Dropping the columns\n",
    "df1.drop(['Number', 'Registration', 'Details', 'Odometer', 'Unit'], axis = 1, inplace = True)\n",
    "df1.head()"
   ]
  },
  {
   "cell_type": "markdown",
   "id": "c8ba4cb9-e72c-47a8-9521-6a9ad4c2ff90",
   "metadata": {},
   "source": [
    "# 4. Outliers Detection and Remove"
   ]
  },
  {
   "cell_type": "code",
   "execution_count": 24,
   "id": "e7357d13-ae88-46f1-9b4c-eac36431afff",
   "metadata": {
    "tags": []
   },
   "outputs": [],
   "source": [
    "#Converting the values of Distance into true formated\n",
    "df1['Distance'] = df1['Distance'].abs()\n",
    "df1['MPG'] = df1['MPG'].abs()"
   ]
  },
  {
   "cell_type": "code",
   "execution_count": 25,
   "id": "a12808da-e187-4d4a-a892-bb68c19de0a1",
   "metadata": {
    "tags": []
   },
   "outputs": [
    {
     "data": {
      "text/plain": [
       "<Axes: ylabel='Distance'>"
      ]
     },
     "execution_count": 25,
     "metadata": {},
     "output_type": "execute_result"
    },
    {
     "data": {
      "image/png": "[encoded data removed]",
      "text/plain": [
       "<Figure size 1000x700 with 1 Axes>"
      ]
     },
     "metadata": {},
     "output_type": "display_data"
    }
   ],
   "source": [
    "plt.figure(figsize=(10,7))\n",
    "sns.boxplot(y = df1['Distance'])"
   ]
  },
  {
   "cell_type": "code",
   "execution_count": 26,
   "id": "4c6baca9-be34-48ae-8c85-d0db0918c03b",
   "metadata": {
    "tags": []
   },
   "outputs": [
    {
     "data": {
      "text/plain": [
       "<Axes: ylabel='MPG'>"
      ]
     },
     "execution_count": 26,
     "metadata": {},
     "output_type": "execute_result"
    },
    {
     "data": {
      "image/png": "[encoded data removed]",
      "text/plain": [
       "<Figure size 640x480 with 1 Axes>"
      ]
     },
     "metadata": {},
     "output_type": "display_data"
    }
   ],
   "source": [
    "sns.boxplot(y = df1['MPG'])"
   ]
  },
  {
   "cell_type": "code",
   "execution_count": 27,
   "id": "1a9d53fe-8ebe-40e7-a86c-68594e339185",
   "metadata": {
    "tags": []
   },
   "outputs": [
    {
     "data": {
      "text/plain": [
       "<Axes: ylabel='MPG'>"
      ]
     },
     "execution_count": 27,
     "metadata": {},
     "output_type": "execute_result"
    },
    {
     "data": {
      "image/png": "[encoded data removed]",
      "text/plain": [
       "<Figure size 640x480 with 1 Axes>"
      ]
     },
     "metadata": {},
     "output_type": "display_data"
    }
   ],
   "source": [
    "max_thershold = df1['MPG'].quantile(0.98)\n",
    "df1 = df1[df1['MPG'] < max_thershold]\n",
    "sns.boxplot(y = df1['MPG'])"
   ]
  },
  {
   "cell_type": "code",
   "execution_count": 28,
   "id": "c448ee6f-56d4-4dd7-8a81-e4a134bf56ac",
   "metadata": {
    "tags": []
   },
   "outputs": [
    {
     "data": {
      "text/plain": [
       "(194, 4)"
      ]
     },
     "execution_count": 28,
     "metadata": {},
     "output_type": "execute_result"
    }
   ],
   "source": [
    "max_threshold = df1['Distance'].quantile(0.98)\n",
    "df1[df1['Distance'] < max_thershold].shape\n",
    "#sns.boxplot(y = df1['Distance'])"
   ]
  },
  {
   "cell_type": "code",
   "execution_count": 29,
   "id": "e84a7e48-deb2-40fc-a65e-a879bdeddf56",
   "metadata": {
    "tags": []
   },
   "outputs": [
    {
     "data": {
      "text/html": [
       "<div>\n",
       "<style scoped>\n",
       "    .dataframe tbody tr th:only-of-type {\n",
       "        vertical-align: middle;\n",
       "    }\n",
       "\n",
       "    .dataframe tbody tr th {\n",
       "        vertical-align: top;\n",
       "    }\n",
       "\n",
       "    .dataframe thead th {\n",
       "        text-align: right;\n",
       "    }\n",
       "</style>\n",
       "<table border=\"1\" class=\"dataframe\">\n",
       "  <thead>\n",
       "    <tr style=\"text-align: right;\">\n",
       "      <th></th>\n",
       "      <th>Product</th>\n",
       "      <th>Distance</th>\n",
       "      <th>MPG</th>\n",
       "      <th>Car_name</th>\n",
       "    </tr>\n",
       "  </thead>\n",
       "  <tbody>\n",
       "    <tr>\n",
       "      <th>2</th>\n",
       "      <td>Diesel</td>\n",
       "      <td>4585.00966</td>\n",
       "      <td>50.04</td>\n",
       "      <td>Vauxhall</td>\n",
       "    </tr>\n",
       "    <tr>\n",
       "      <th>3</th>\n",
       "      <td>Diesel</td>\n",
       "      <td>8640.54646</td>\n",
       "      <td>39.29</td>\n",
       "      <td>Vauxhall</td>\n",
       "    </tr>\n",
       "    <tr>\n",
       "      <th>4</th>\n",
       "      <td>Diesel</td>\n",
       "      <td>1693.02568</td>\n",
       "      <td>56.17</td>\n",
       "      <td>Nissan</td>\n",
       "    </tr>\n",
       "    <tr>\n",
       "      <th>6</th>\n",
       "      <td>Diesel</td>\n",
       "      <td>58097.17400</td>\n",
       "      <td>50.79</td>\n",
       "      <td>Peugeot</td>\n",
       "    </tr>\n",
       "    <tr>\n",
       "      <th>7</th>\n",
       "      <td>Diesel</td>\n",
       "      <td>1525.65432</td>\n",
       "      <td>36.04</td>\n",
       "      <td>Nissan</td>\n",
       "    </tr>\n",
       "  </tbody>\n",
       "</table>\n",
       "</div>"
      ],
      "text/plain": [
       "  Product     Distance    MPG  Car_name\n",
       "2  Diesel   4585.00966  50.04  Vauxhall\n",
       "3  Diesel   8640.54646  39.29  Vauxhall\n",
       "4  Diesel   1693.02568  56.17    Nissan\n",
       "6  Diesel  58097.17400  50.79   Peugeot\n",
       "7  Diesel   1525.65432  36.04    Nissan"
      ]
     },
     "execution_count": 29,
     "metadata": {},
     "output_type": "execute_result"
    }
   ],
   "source": [
    "df1 = df1[(df1['Distance'] != 0) & (df1['MPG'] != 0)]\n",
    "df1.head()"
   ]
  },
  {
   "cell_type": "markdown",
   "id": "ad97241b-fe2f-4b50-b158-7fb6d7b14799",
   "metadata": {},
   "source": [
    "# 5. Word Dummies"
   ]
  },
  {
   "cell_type": "markdown",
   "id": "254f86e8-2de8-4e94-a296-ac7ea8205b91",
   "metadata": {},
   "source": [
    "#### 5.1: Changing the names of the cars due to errors"
   ]
  },
  {
   "cell_type": "code",
   "execution_count": 30,
   "id": "d05db339-e44a-4b7f-8758-8b23b37e4e9f",
   "metadata": {
    "tags": []
   },
   "outputs": [],
   "source": [
    "df1.loc[df1['Car_name'] == 'Daf', 'Car_name'] = 'DAF'\n",
    "df1.loc[df1['Car_name'] == 'Mereecdes', 'Car_name'] = 'Mercedes'\n",
    "df1.loc[df1['Car_name'] == 'Peugeot', 'Car_name'] = 'PEUGEOT'\n",
    "df1.loc[df1['Car_name'] == 'peugeot;;', 'Car_name'] = 'PEUGEOT'\n",
    "df1.loc[df1['Car_name'] == 'peugeot', 'Car_name'] = 'PEUGEOT'\n",
    "\n",
    "df1.loc[df1['Car_name'] == 'Renauly', 'Car_name'] = 'Renault'\n",
    "df1.loc[df1['Car_name'] == 'RCV', 'Car_name'] = 'Renault'\n",
    "\n",
    "\n",
    "df1.loc[df1['Car_name'] == 'Valtra', 'Car_name'] = 'Vauxhall'\n",
    "df1.loc[df1['Car_name'] == 'Vauvhall', 'Car_name'] = 'Vauxhall'\n",
    "df1.loc[df1['Car_name'] == 'Vauxall', 'Car_name'] = 'Vauxhall'\n",
    "df1.loc[df1['Car_name'] == 'vauxha;;', 'Car_name'] = 'Vauxhall'\n",
    "\n",
    "\n",
    "df1.loc[df1['Car_name'] == 'Kubota', 'Car_name'] = 'Landrover'\n",
    "df1.loc[df1['Car_name'] == 'Leyland', 'Car_name'] = 'Landrover'\n",
    "\n",
    "\n",
    "df1.loc[df1['Car_name'] == 'Dennis', 'Car_name'] = 'Ford'\n",
    "df1.loc[df1['Car_name'] == 'Fiat', 'Car_name'] = 'Ford'\n",
    "df1.loc[df1['Car_name'] == 'Fuso', 'Car_name'] = 'Ford'\n",
    "df1.loc[df1['Car_name'] == 'John', 'Car_name'] = 'Ford'\n",
    "\n",
    "\n",
    "df1.loc[df1['Car_name'] == 'Volkswagon', 'Car_name'] = 'Volkswagen'\n",
    "\n",
    "df1.loc[df1['Car_name'] == 'Minibus', 'Car_name'] = 'Mitsubishi'"
   ]
  },
  {
   "cell_type": "code",
   "execution_count": 31,
   "id": "109ab5c8-6d2e-4349-8501-c97fd7ee4691",
   "metadata": {
    "tags": []
   },
   "outputs": [
    {
     "data": {
      "text/html": [
       "<div>\n",
       "<style scoped>\n",
       "    .dataframe tbody tr th:only-of-type {\n",
       "        vertical-align: middle;\n",
       "    }\n",
       "\n",
       "    .dataframe tbody tr th {\n",
       "        vertical-align: top;\n",
       "    }\n",
       "\n",
       "    .dataframe thead th {\n",
       "        text-align: right;\n",
       "    }\n",
       "</style>\n",
       "<table border=\"1\" class=\"dataframe\">\n",
       "  <thead>\n",
       "    <tr style=\"text-align: right;\">\n",
       "      <th></th>\n",
       "      <th>Product</th>\n",
       "      <th>Distance</th>\n",
       "      <th>MPG</th>\n",
       "      <th>Car_name</th>\n",
       "      <th>Product_</th>\n",
       "      <th>Car</th>\n",
       "    </tr>\n",
       "  </thead>\n",
       "  <tbody>\n",
       "    <tr>\n",
       "      <th>2</th>\n",
       "      <td>Diesel</td>\n",
       "      <td>4585.00966</td>\n",
       "      <td>50.04</td>\n",
       "      <td>Vauxhall</td>\n",
       "      <td>1</td>\n",
       "      <td>10</td>\n",
       "    </tr>\n",
       "    <tr>\n",
       "      <th>3</th>\n",
       "      <td>Diesel</td>\n",
       "      <td>8640.54646</td>\n",
       "      <td>39.29</td>\n",
       "      <td>Vauxhall</td>\n",
       "      <td>1</td>\n",
       "      <td>10</td>\n",
       "    </tr>\n",
       "    <tr>\n",
       "      <th>4</th>\n",
       "      <td>Diesel</td>\n",
       "      <td>1693.02568</td>\n",
       "      <td>56.17</td>\n",
       "      <td>Nissan</td>\n",
       "      <td>1</td>\n",
       "      <td>7</td>\n",
       "    </tr>\n",
       "    <tr>\n",
       "      <th>6</th>\n",
       "      <td>Diesel</td>\n",
       "      <td>58097.17400</td>\n",
       "      <td>50.79</td>\n",
       "      <td>PEUGEOT</td>\n",
       "      <td>1</td>\n",
       "      <td>8</td>\n",
       "    </tr>\n",
       "    <tr>\n",
       "      <th>7</th>\n",
       "      <td>Diesel</td>\n",
       "      <td>1525.65432</td>\n",
       "      <td>36.04</td>\n",
       "      <td>Nissan</td>\n",
       "      <td>1</td>\n",
       "      <td>7</td>\n",
       "    </tr>\n",
       "  </tbody>\n",
       "</table>\n",
       "</div>"
      ],
      "text/plain": [
       "  Product     Distance    MPG  Car_name  Product_  Car\n",
       "2  Diesel   4585.00966  50.04  Vauxhall         1   10\n",
       "3  Diesel   8640.54646  39.29  Vauxhall         1   10\n",
       "4  Diesel   1693.02568  56.17    Nissan         1    7\n",
       "6  Diesel  58097.17400  50.79   PEUGEOT         1    8\n",
       "7  Diesel   1525.65432  36.04    Nissan         1    7"
      ]
     },
     "execution_count": 31,
     "metadata": {},
     "output_type": "execute_result"
    }
   ],
   "source": [
    "# Importing LabelEncoder from Sklearn \n",
    "# library from preprocessing Module.\n",
    "from sklearn.preprocessing import LabelEncoder\n",
    "# Creating a instance of label Encoder.\n",
    "le = LabelEncoder()\n",
    "# Using .fit_transform function to fit label\n",
    "# encoder and return encoded label\n",
    "df1['Product_'] = le.fit_transform(df1['Product'])\n",
    "df1['Car'] = le.fit_transform(df1['Car_name'])\n",
    "# printing label\n",
    "df1.head()"
   ]
  },
  {
   "cell_type": "code",
   "execution_count": 32,
   "id": "9adefb36-c9b0-4184-8a49-ef6bd3be0b45",
   "metadata": {
    "tags": []
   },
   "outputs": [],
   "source": [
    "car_dict = { 0 : 'Caddy', 1: 'DAF', 2 : 'Ford', 3: 'Iveco', 4: 'Landrover', 5: 'Mercedes',\n",
    "            6: 'Mitsubishi', 7: 'Nissan', 8: 'PEUGEOT', 9: 'Renault', 10: 'Vauxhall', 11: 'Volkswagen', \n",
    "            12: 'Volvo'}\n",
    "Product_dict = { 0: 'CNG', 1: 'Diesel', 2: 'Gasoil' }"
   ]
  },
  {
   "cell_type": "code",
   "execution_count": 33,
   "id": "b4ab7e0f-e356-4923-9135-b55529767a86",
   "metadata": {
    "tags": []
   },
   "outputs": [],
   "source": [
    "#Removing the unwanted columns\n",
    "df1.drop(['Product', 'Car_name'], axis =1, inplace = True)"
   ]
  },
  {
   "cell_type": "code",
   "execution_count": 34,
   "id": "3d2b2e22-87ad-4915-b15b-76bb44f77e34",
   "metadata": {
    "tags": []
   },
   "outputs": [
    {
     "data": {
      "text/html": [
       "<div>\n",
       "<style scoped>\n",
       "    .dataframe tbody tr th:only-of-type {\n",
       "        vertical-align: middle;\n",
       "    }\n",
       "\n",
       "    .dataframe tbody tr th {\n",
       "        vertical-align: top;\n",
       "    }\n",
       "\n",
       "    .dataframe thead th {\n",
       "        text-align: right;\n",
       "    }\n",
       "</style>\n",
       "<table border=\"1\" class=\"dataframe\">\n",
       "  <thead>\n",
       "    <tr style=\"text-align: right;\">\n",
       "      <th></th>\n",
       "      <th>Distance</th>\n",
       "      <th>MPG</th>\n",
       "      <th>Product_</th>\n",
       "      <th>Car</th>\n",
       "    </tr>\n",
       "  </thead>\n",
       "  <tbody>\n",
       "    <tr>\n",
       "      <th>Distance</th>\n",
       "      <td>1.000000</td>\n",
       "      <td>-0.014266</td>\n",
       "      <td>-0.037636</td>\n",
       "      <td>0.028429</td>\n",
       "    </tr>\n",
       "    <tr>\n",
       "      <th>MPG</th>\n",
       "      <td>-0.014266</td>\n",
       "      <td>1.000000</td>\n",
       "      <td>0.043075</td>\n",
       "      <td>0.139645</td>\n",
       "    </tr>\n",
       "    <tr>\n",
       "      <th>Product_</th>\n",
       "      <td>-0.037636</td>\n",
       "      <td>0.043075</td>\n",
       "      <td>1.000000</td>\n",
       "      <td>0.080022</td>\n",
       "    </tr>\n",
       "    <tr>\n",
       "      <th>Car</th>\n",
       "      <td>0.028429</td>\n",
       "      <td>0.139645</td>\n",
       "      <td>0.080022</td>\n",
       "      <td>1.000000</td>\n",
       "    </tr>\n",
       "  </tbody>\n",
       "</table>\n",
       "</div>"
      ],
      "text/plain": [
       "          Distance       MPG  Product_       Car\n",
       "Distance  1.000000 -0.014266 -0.037636  0.028429\n",
       "MPG      -0.014266  1.000000  0.043075  0.139645\n",
       "Product_ -0.037636  0.043075  1.000000  0.080022\n",
       "Car       0.028429  0.139645  0.080022  1.000000"
      ]
     },
     "execution_count": 34,
     "metadata": {},
     "output_type": "execute_result"
    }
   ],
   "source": [
    "df1.corr()"
   ]
  },
  {
   "cell_type": "code",
   "execution_count": 35,
   "id": "8d05e3f0-6353-4645-b9c4-ccc55805718e",
   "metadata": {
    "tags": []
   },
   "outputs": [],
   "source": [
    "#Checkpoint\n",
    "df_cleaned = df1.copy()"
   ]
  },
  {
   "cell_type": "markdown",
   "id": "a27584db-085a-4fb5-a6c8-a6b8188cec22",
   "metadata": {
    "tags": []
   },
   "source": [
    "# 6. Machine Learning"
   ]
  },
  {
   "cell_type": "markdown",
   "id": "4ec19b0e-211a-4829-97b8-48b6b5b8f278",
   "metadata": {},
   "source": [
    "### 6.1: Dividing the data into dependent and independent columns"
   ]
  },
  {
   "cell_type": "code",
   "execution_count": 36,
   "id": "526e8f16-a180-4252-a203-f07651982a0d",
   "metadata": {
    "tags": []
   },
   "outputs": [
    {
     "data": {
      "text/html": [
       "<div>\n",
       "<style scoped>\n",
       "    .dataframe tbody tr th:only-of-type {\n",
       "        vertical-align: middle;\n",
       "    }\n",
       "\n",
       "    .dataframe tbody tr th {\n",
       "        vertical-align: top;\n",
       "    }\n",
       "\n",
       "    .dataframe thead th {\n",
       "        text-align: right;\n",
       "    }\n",
       "</style>\n",
       "<table border=\"1\" class=\"dataframe\">\n",
       "  <thead>\n",
       "    <tr style=\"text-align: right;\">\n",
       "      <th></th>\n",
       "      <th>Distance</th>\n",
       "      <th>MPG</th>\n",
       "      <th>Product_</th>\n",
       "      <th>Car</th>\n",
       "    </tr>\n",
       "  </thead>\n",
       "  <tbody>\n",
       "    <tr>\n",
       "      <th>0</th>\n",
       "      <td>4585.00966</td>\n",
       "      <td>50.04</td>\n",
       "      <td>1</td>\n",
       "      <td>10</td>\n",
       "    </tr>\n",
       "    <tr>\n",
       "      <th>1</th>\n",
       "      <td>8640.54646</td>\n",
       "      <td>39.29</td>\n",
       "      <td>1</td>\n",
       "      <td>10</td>\n",
       "    </tr>\n",
       "    <tr>\n",
       "      <th>2</th>\n",
       "      <td>1693.02568</td>\n",
       "      <td>56.17</td>\n",
       "      <td>1</td>\n",
       "      <td>7</td>\n",
       "    </tr>\n",
       "    <tr>\n",
       "      <th>3</th>\n",
       "      <td>58097.17400</td>\n",
       "      <td>50.79</td>\n",
       "      <td>1</td>\n",
       "      <td>8</td>\n",
       "    </tr>\n",
       "    <tr>\n",
       "      <th>4</th>\n",
       "      <td>1525.65432</td>\n",
       "      <td>36.04</td>\n",
       "      <td>1</td>\n",
       "      <td>7</td>\n",
       "    </tr>\n",
       "  </tbody>\n",
       "</table>\n",
       "</div>"
      ],
      "text/plain": [
       "      Distance    MPG  Product_  Car\n",
       "0   4585.00966  50.04         1   10\n",
       "1   8640.54646  39.29         1   10\n",
       "2   1693.02568  56.17         1    7\n",
       "3  58097.17400  50.79         1    8\n",
       "4   1525.65432  36.04         1    7"
      ]
     },
     "execution_count": 36,
     "metadata": {},
     "output_type": "execute_result"
    }
   ],
   "source": [
    "df_cleaned = df_cleaned.reset_index()\n",
    "df_cleaned.drop(['index'], axis = 1, inplace = True)\n",
    "df_cleaned.head()"
   ]
  },
  {
   "cell_type": "code",
   "execution_count": 37,
   "id": "5d95a784-afb9-40c9-a5e5-13db593534d1",
   "metadata": {
    "tags": []
   },
   "outputs": [
    {
     "data": {
      "text/html": [
       "<div>\n",
       "<style scoped>\n",
       "    .dataframe tbody tr th:only-of-type {\n",
       "        vertical-align: middle;\n",
       "    }\n",
       "\n",
       "    .dataframe tbody tr th {\n",
       "        vertical-align: top;\n",
       "    }\n",
       "\n",
       "    .dataframe thead th {\n",
       "        text-align: right;\n",
       "    }\n",
       "</style>\n",
       "<table border=\"1\" class=\"dataframe\">\n",
       "  <thead>\n",
       "    <tr style=\"text-align: right;\">\n",
       "      <th></th>\n",
       "      <th>Distance</th>\n",
       "      <th>Product_</th>\n",
       "      <th>Car</th>\n",
       "    </tr>\n",
       "  </thead>\n",
       "  <tbody>\n",
       "    <tr>\n",
       "      <th>0</th>\n",
       "      <td>4585.00966</td>\n",
       "      <td>1</td>\n",
       "      <td>10</td>\n",
       "    </tr>\n",
       "    <tr>\n",
       "      <th>1</th>\n",
       "      <td>8640.54646</td>\n",
       "      <td>1</td>\n",
       "      <td>10</td>\n",
       "    </tr>\n",
       "    <tr>\n",
       "      <th>2</th>\n",
       "      <td>1693.02568</td>\n",
       "      <td>1</td>\n",
       "      <td>7</td>\n",
       "    </tr>\n",
       "    <tr>\n",
       "      <th>3</th>\n",
       "      <td>58097.17400</td>\n",
       "      <td>1</td>\n",
       "      <td>8</td>\n",
       "    </tr>\n",
       "    <tr>\n",
       "      <th>4</th>\n",
       "      <td>1525.65432</td>\n",
       "      <td>1</td>\n",
       "      <td>7</td>\n",
       "    </tr>\n",
       "  </tbody>\n",
       "</table>\n",
       "</div>"
      ],
      "text/plain": [
       "      Distance  Product_  Car\n",
       "0   4585.00966         1   10\n",
       "1   8640.54646         1   10\n",
       "2   1693.02568         1    7\n",
       "3  58097.17400         1    8\n",
       "4   1525.65432         1    7"
      ]
     },
     "execution_count": 37,
     "metadata": {},
     "output_type": "execute_result"
    }
   ],
   "source": [
    "x = df_cleaned.drop(['MPG'], axis = 1)\n",
    "x.head()"
   ]
  },
  {
   "cell_type": "code",
   "execution_count": 38,
   "id": "e6b6a9e7-a10f-4bb6-bf56-8f267e9dfe91",
   "metadata": {
    "tags": []
   },
   "outputs": [
    {
     "data": {
      "text/html": [
       "<div>\n",
       "<style scoped>\n",
       "    .dataframe tbody tr th:only-of-type {\n",
       "        vertical-align: middle;\n",
       "    }\n",
       "\n",
       "    .dataframe tbody tr th {\n",
       "        vertical-align: top;\n",
       "    }\n",
       "\n",
       "    .dataframe thead th {\n",
       "        text-align: right;\n",
       "    }\n",
       "</style>\n",
       "<table border=\"1\" class=\"dataframe\">\n",
       "  <thead>\n",
       "    <tr style=\"text-align: right;\">\n",
       "      <th></th>\n",
       "      <th>MPG</th>\n",
       "    </tr>\n",
       "  </thead>\n",
       "  <tbody>\n",
       "    <tr>\n",
       "      <th>0</th>\n",
       "      <td>50.04</td>\n",
       "    </tr>\n",
       "    <tr>\n",
       "      <th>1</th>\n",
       "      <td>39.29</td>\n",
       "    </tr>\n",
       "    <tr>\n",
       "      <th>2</th>\n",
       "      <td>56.17</td>\n",
       "    </tr>\n",
       "    <tr>\n",
       "      <th>3</th>\n",
       "      <td>50.79</td>\n",
       "    </tr>\n",
       "    <tr>\n",
       "      <th>4</th>\n",
       "      <td>36.04</td>\n",
       "    </tr>\n",
       "    <tr>\n",
       "      <th>...</th>\n",
       "      <td>...</td>\n",
       "    </tr>\n",
       "    <tr>\n",
       "      <th>971</th>\n",
       "      <td>17.25</td>\n",
       "    </tr>\n",
       "    <tr>\n",
       "      <th>972</th>\n",
       "      <td>19.80</td>\n",
       "    </tr>\n",
       "    <tr>\n",
       "      <th>973</th>\n",
       "      <td>17.85</td>\n",
       "    </tr>\n",
       "    <tr>\n",
       "      <th>974</th>\n",
       "      <td>34.32</td>\n",
       "    </tr>\n",
       "    <tr>\n",
       "      <th>975</th>\n",
       "      <td>4.07</td>\n",
       "    </tr>\n",
       "  </tbody>\n",
       "</table>\n",
       "<p>976 rows × 1 columns</p>\n",
       "</div>"
      ],
      "text/plain": [
       "       MPG\n",
       "0    50.04\n",
       "1    39.29\n",
       "2    56.17\n",
       "3    50.79\n",
       "4    36.04\n",
       "..     ...\n",
       "971  17.25\n",
       "972  19.80\n",
       "973  17.85\n",
       "974  34.32\n",
       "975   4.07\n",
       "\n",
       "[976 rows x 1 columns]"
      ]
     },
     "execution_count": 38,
     "metadata": {},
     "output_type": "execute_result"
    }
   ],
   "source": [
    "y = df_cleaned.iloc[:, 1:2]\n",
    "y"
   ]
  },
  {
   "cell_type": "markdown",
   "id": "69af4b1d-4c40-4408-8efb-c616156166e2",
   "metadata": {},
   "source": [
    "### 6.2: Splitting the data into train test"
   ]
  },
  {
   "cell_type": "code",
   "execution_count": 39,
   "id": "8ed3fc07-138b-4de1-8969-292a365ad479",
   "metadata": {
    "tags": []
   },
   "outputs": [],
   "source": [
    "from sklearn.preprocessing import StandardScaler\n",
    "from sklearn.model_selection import train_test_split"
   ]
  },
  {
   "cell_type": "code",
   "execution_count": 40,
   "id": "ec37b78f-6ca6-4aa7-a491-ec9b630f6209",
   "metadata": {
    "tags": []
   },
   "outputs": [
    {
     "name": "stdout",
     "output_type": "stream",
     "text": [
      "X train shape:  (780, 3)\n",
      "x test shape:  (196, 3)\n",
      "Y train shape:  (780, 1)\n",
      "Y test shape:  (196, 1)\n"
     ]
    }
   ],
   "source": [
    "x_train,x_test,y_train,y_test=train_test_split(x,y,test_size=0.2,random_state=42)\n",
    "print(\"X train shape: \", x_train.shape)\n",
    "print(\"x test shape: \",x_test.shape)\n",
    "print(\"Y train shape: \",y_train.shape)\n",
    "print(\"Y test shape: \", y_test.shape)"
   ]
  },
  {
   "cell_type": "markdown",
   "id": "c68ac308-7dc6-44f8-86fe-ea83c8079136",
   "metadata": {},
   "source": [
    "### 6.3: Model Building"
   ]
  },
  {
   "cell_type": "code",
   "execution_count": 41,
   "id": "198893ff-ce27-46ef-a499-5f5fd4e6a859",
   "metadata": {
    "tags": []
   },
   "outputs": [
    {
     "name": "stdout",
     "output_type": "stream",
     "text": [
      "Linear Model Score: -1.8328851927984502e-05\n"
     ]
    }
   ],
   "source": [
    "#Starting with linear regression\n",
    "from sklearn.linear_model import LinearRegression\n",
    "model=LinearRegression()\n",
    "\n",
    "model.fit(x_train,y_train)\n",
    "prediction=model.predict(x_test)\n",
    "\n",
    "linear_model=model.score(x_test,y_test)\n",
    "print(\"Linear Model Score:\",linear_model)"
   ]
  },
  {
   "cell_type": "code",
   "execution_count": 42,
   "id": "45afab07-04d0-421c-a0e3-9f8e114b6a2a",
   "metadata": {
    "tags": []
   },
   "outputs": [
    {
     "name": "stdout",
     "output_type": "stream",
     "text": [
      "Decision Tree model score: 0.3870958248761115\n"
     ]
    }
   ],
   "source": [
    "#Decision Tree\n",
    "from sklearn import tree\n",
    "dt_model=tree.DecisionTreeRegressor(criterion='squared_error',max_depth=3,max_leaf_nodes=5)\n",
    "dt_model.fit(x_train,y_train)\n",
    "dt_score=dt_model.score(x_test,y_test)\n",
    "print(\"Decision Tree model score:\",dt_score)"
   ]
  },
  {
   "cell_type": "code",
   "execution_count": 43,
   "id": "2cdce4ef-847f-4155-b8e5-d281bcecfdfb",
   "metadata": {
    "tags": []
   },
   "outputs": [
    {
     "name": "stdout",
     "output_type": "stream",
     "text": [
      "Random Forest Score is: 0.6015571940760807\n"
     ]
    },
    {
     "name": "stderr",
     "output_type": "stream",
     "text": [
      "/Users/usmanali/anaconda3/lib/python3.11/site-packages/sklearn/base.py:1151: DataConversionWarning: A column-vector y was passed when a 1d array was expected. Please change the shape of y to (n_samples,), for example using ravel().\n",
      "  return fit_method(estimator, *args, **kwargs)\n"
     ]
    }
   ],
   "source": [
    "#Random Forest\n",
    "from sklearn.ensemble import RandomForestRegressor\n",
    "random_forest_model=RandomForestRegressor(n_estimators=10,\n",
    "                                          criterion='squared_error',\n",
    "                                          max_depth=5,\n",
    "                                          min_samples_leaf=5,)\n",
    "random_forest_model.fit(x_train,y_train)\n",
    "random_forest_score=random_forest_model.score(x_test,y_test)\n",
    "print(\"Random Forest Score is:\",random_forest_score)"
   ]
  },
  {
   "cell_type": "code",
   "execution_count": 44,
   "id": "2dbff34d-9565-45f3-91a9-344f854fd9c0",
   "metadata": {
    "tags": []
   },
   "outputs": [
    {
     "name": "stdout",
     "output_type": "stream",
     "text": [
      "KNN score: -0.3141625944813222\n"
     ]
    }
   ],
   "source": [
    "#KNN\n",
    "from sklearn.neighbors import KNeighborsRegressor\n",
    "knn_model=KNeighborsRegressor(n_neighbors=5,\n",
    "                              weights='distance')\n",
    "knn_model.fit(x_train,y_train)\n",
    "knn_score=knn_model.score(x_test,y_test)\n",
    "print(\"KNN score:\",knn_score)"
   ]
  },
  {
   "cell_type": "code",
   "execution_count": 45,
   "id": "5e623269-4894-45e3-be38-85d96da5fbb4",
   "metadata": {
    "tags": []
   },
   "outputs": [
    {
     "name": "stdout",
     "output_type": "stream",
     "text": [
      "Gradient Boost Model Score: 0.3851462376042597\n"
     ]
    },
    {
     "name": "stderr",
     "output_type": "stream",
     "text": [
      "/Users/usmanali/anaconda3/lib/python3.11/site-packages/sklearn/ensemble/_gb.py:424: DataConversionWarning: A column-vector y was passed when a 1d array was expected. Please change the shape of y to (n_samples, ), for example using ravel().\n",
      "  y = column_or_1d(y, warn=True)\n"
     ]
    }
   ],
   "source": [
    "#Gradient Boost\n",
    "from sklearn.ensemble import GradientBoostingRegressor\n",
    "gradient_boost_model=GradientBoostingRegressor(learning_rate=1.0,\n",
    "                                               n_estimators=20,\n",
    "                                               max_depth=5,\n",
    "                                               min_samples_leaf=5\n",
    "                                               )\n",
    "gradient_boost_model.fit(x_train,y_train)\n",
    "gradient_boost_score=gradient_boost_model.score(x_test,y_test)\n",
    "print(\"Gradient Boost Model Score:\",gradient_boost_score)\n"
   ]
  },
  {
   "cell_type": "code",
   "execution_count": 46,
   "id": "fe6ea855-b3a1-4239-98a0-3433a9855559",
   "metadata": {
    "tags": []
   },
   "outputs": [
    {
     "name": "stdout",
     "output_type": "stream",
     "text": [
      "XG Boost score: 0.346398154031504\n"
     ]
    },
    {
     "name": "stderr",
     "output_type": "stream",
     "text": [
      "/Users/usmanali/anaconda3/lib/python3.11/site-packages/xgboost/core.py:160: UserWarning: [19:51:03] WARNING: /Users/runner/work/xgboost/xgboost/src/objective/regression_obj.cu:209: reg:linear is now deprecated in favor of reg:squarederror.\n",
      "  warnings.warn(smsg, UserWarning)\n"
     ]
    }
   ],
   "source": [
    "#XGBoost\n",
    "import xgboost as xgb\n",
    "xgb_model = xgb.XGBRegressor(objective=\"reg:linear\", random_state=42)\n",
    "xgb_model.fit(x_train,y_train)\n",
    "xgb_score=xgb_model.score(x_test,y_test)\n",
    "print(\"XG Boost score:\",xgb_score)"
   ]
  },
  {
   "cell_type": "code",
   "execution_count": 47,
   "id": "9e99f615-641a-433a-bf2e-e95acd57ffec",
   "metadata": {
    "tags": []
   },
   "outputs": [
    {
     "name": "stdout",
     "output_type": "stream",
     "text": [
      "ADA boost model score: 0.5076983257185559\n"
     ]
    },
    {
     "name": "stderr",
     "output_type": "stream",
     "text": [
      "/Users/usmanali/anaconda3/lib/python3.11/site-packages/sklearn/utils/validation.py:1184: DataConversionWarning: A column-vector y was passed when a 1d array was expected. Please change the shape of y to (n_samples, ), for example using ravel().\n",
      "  y = column_or_1d(y, warn=True)\n"
     ]
    }
   ],
   "source": [
    "#AdaBoost\n",
    "from sklearn.ensemble import AdaBoostRegressor\n",
    "adaboost_model=AdaBoostRegressor(n_estimators=20,\n",
    "                                 learning_rate=0.1,\n",
    "                                 loss='square')\n",
    "adaboost_model.fit(x_train,y_train)\n",
    "adaboost_score=adaboost_model.score(x_test,y_test)\n",
    "print('ADA boost model score:',adaboost_score)"
   ]
  },
  {
   "cell_type": "code",
   "execution_count": 48,
   "id": "9f9596fa-0dc2-4efb-952c-475b97303b3a",
   "metadata": {},
   "outputs": [],
   "source": [
    "#Model will be improved"
   ]
  },
  {
   "cell_type": "code",
   "execution_count": 1,
   "id": "941b32b0",
   "metadata": {},
   "outputs": [
    {
     "ename": "NameError",
     "evalue": "name 'random_forest_model' is not defined",
     "output_type": "error",
     "traceback": [
      "\u001b[0;31m---------------------------------------------------------------------------\u001b[0m",
      "\u001b[0;31mNameError\u001b[0m                                 Traceback (most recent call last)",
      "Cell \u001b[0;32mIn[1], line 3\u001b[0m\n\u001b[1;32m      1\u001b[0m \u001b[38;5;28;01mimport\u001b[39;00m \u001b[38;5;21;01mjoblib\u001b[39;00m\n\u001b[0;32m----> 3\u001b[0m joblib\u001b[38;5;241m.\u001b[39mdump(random_forest_model, \u001b[38;5;124m'\u001b[39m\u001b[38;5;124mfuel_mileage_model.pkl\u001b[39m\u001b[38;5;124m'\u001b[39m)\n\u001b[1;32m      5\u001b[0m \u001b[38;5;66;03m#Model Testing`\u001b[39;00m\n\u001b[1;32m      6\u001b[0m pickle\u001b[38;5;241m.\u001b[39mdump(random_forest_model, \u001b[38;5;28mopen\u001b[39m(\u001b[38;5;124m'\u001b[39m\u001b[38;5;124mFuel_Management_ML_Model.pkl\u001b[39m\u001b[38;5;124m'\u001b[39m, \u001b[38;5;124m'\u001b[39m\u001b[38;5;124mwb\u001b[39m\u001b[38;5;124m'\u001b[39m))\n",
      "\u001b[0;31mNameError\u001b[0m: name 'random_forest_model' is not defined"
     ]
    }
   ],
   "source": [
    "import joblib\n",
    "\n",
    "joblib.dump(random_forest_model, 'fuel_mileage_model.pkl')\n",
    "\n",
    "#Model Testing`\n",
    "pickle.dump(random_forest_model, open('Fuel_Management_ML_Model.pkl', 'wb'))"
   ]
  },
  {
   "cell_type": "code",
   "execution_count": 4,
   "id": "3d7760e6",
   "metadata": {},
   "outputs": [
    {
     "name": "stdout",
     "output_type": "stream",
     "text": [
      "Enter the Distance: 20\n",
      "Enter the Gas Type: cng\n",
      "Enter the Car Brand: ford\n",
      "How much fuel you have used: 2\n",
      "The fuel Milage Must be between: 10.649 to 20.649\n",
      "Your MPG is: 10.0\n",
      "The Milage is accurate\n"
     ]
    },
    {
     "name": "stderr",
     "output_type": "stream",
     "text": [
      "/Users/usmanali/anaconda3/lib/python3.11/site-packages/sklearn/base.py:464: UserWarning: X does not have valid feature names, but RandomForestRegressor was fitted with feature names\n",
      "  warnings.warn(\n"
     ]
    }
   ],
   "source": [
    "#Load the model\n",
    "model = joblib.load('fuel_mileage_model.pkl')\n",
    "#Fetech the data\n",
    "car_dict = {'CADDY': 0, 'DAF': 1, 'FORD': 2, 'IVECO': 3, 'LANDROVER': 4, 'MERCEDES': 5,\n",
    "            'MITSUBISHI': 6, 'NISSAN': 7, 'PEUGEOT': 8, 'RENAULT': 9, 'VAUXHALL': 10, \n",
    "            'VOLKSWAGEN': 11, 'VOLVO': 12}\n",
    "\n",
    "product_dict = {'CNG': 0, 'DIESEL': 1, 'GASOIL': 2}\n",
    "#Getting user data in uppercase\n",
    "Distance = float(input(\"Enter the Distance: \"))\n",
    "Product = input(\"Enter the Gas Type: \").upper()\n",
    "Car = input(\"Enter the Car Brand: \").upper()\n",
    "oil = float(input(\"How much fuel you have used: \"))\n",
    "Milage = Distance/oil\n",
    "\n",
    "if Car in car_dict:\n",
    "    Car = car_dict[Car]\n",
    "else:\n",
    "    print(Car)\n",
    "    Car = None\n",
    "    \n",
    "if Product in product_dict:\n",
    "    Product = product_dict[Product]\n",
    "else:\n",
    "    print(Product)\n",
    "    Product = None\n",
    "\n",
    "\n",
    "#Get the Results\n",
    "if Product is None or Car is None:\n",
    "    print(\"These Values doesn't Exist\")\n",
    "else:\n",
    "    Result = model.predict(np.array([Distance, Product, Car]).reshape(1,3))[0].round(3)\n",
    "    print(\"The fuel Milage Must be between:\", Result-5, \"to\", Result+5)\n",
    "    if Milage > Result-5 or Milage < Result+5:\n",
    "        print(\"Your MPG is:\", Milage)\n",
    "        print(\"The Milage is accurate\")\n",
    "    else:\n",
    "        print(\"Your MPG is:\", Milage)\n",
    "        print(\"There might be a fuel theft\")"
   ]
  },
  {
   "cell_type": "code",
   "execution_count": 51,
   "id": "944f4cac",
   "metadata": {},
   "outputs": [
    {
     "name": "stdout",
     "output_type": "stream",
     "text": [
      "Enter number45\n"
     ]
    },
    {
     "data": {
      "text/plain": [
       "'45'"
      ]
     },
     "execution_count": 51,
     "metadata": {},
     "output_type": "execute_result"
    }
   ],
   "source": [
    "input(\"Enter number\")"
   ]
  },
  {
   "cell_type": "code",
   "execution_count": 52,
   "id": "8404e7fe",
   "metadata": {},
   "outputs": [
    {
     "ename": "KeyError",
     "evalue": "''",
     "output_type": "error",
     "traceback": [
      "\u001b[0;31m---------------------------------------------------------------------------\u001b[0m",
      "\u001b[0;31mKeyError\u001b[0m                                  Traceback (most recent call last)",
      "Cell \u001b[0;32mIn[52], line 1\u001b[0m\n\u001b[0;32m----> 1\u001b[0m car_dict[\u001b[38;5;124m'\u001b[39m\u001b[38;5;124m'\u001b[39m]\n",
      "\u001b[0;31mKeyError\u001b[0m: ''"
     ]
    }
   ],
   "source": [
    "car_dict['']"
   ]
  },
  {
   "cell_type": "code",
   "execution_count": 5,
   "id": "c2dd9fc7",
   "metadata": {},
   "outputs": [
    {
     "data": {
      "text/plain": [
       "'1.3.0'"
      ]
     },
     "execution_count": 5,
     "metadata": {},
     "output_type": "execute_result"
    }
   ],
   "source": [
    "import sklearn\n",
    "sklearn.__version__"
   ]
  },
  {
   "cell_type": "code",
   "execution_count": null,
   "id": "fa992453",
   "metadata": {},
   "outputs": [],
   "source": [
    "Car = input(\"Enter the Car Brand: \").upper()\n",
    "if Car in car_dict:\n",
    "    Car = car_dict[Car]\n",
    "    print(Car)\n",
    "else:\n",
    "    print(\"The car brand provided does not exist.\")\n",
    "    Car = None"
   ]
  },
  {
   "cell_type": "code",
   "execution_count": null,
   "id": "43800767",
   "metadata": {},
   "outputs": [],
   "source": []
  }
 ],
 "metadata": {
  "kernelspec": {
   "display_name": "Python 3 (ipykernel)",
   "language": "python",
   "name": "python3"
  },
  "language_info": {
   "codemirror_mode": {
    "name": "ipython",
    "version": 3
   },
   "file_extension": ".py",
   "mimetype": "text/x-python",
   "name": "python",
   "nbconvert_exporter": "python",
   "pygments_lexer": "ipython3",
   "version": "3.11.5"
  }
 },
 "nbformat": 4,
 "nbformat_minor": 5
}
